{
 "cells": [
  {
   "cell_type": "code",
   "execution_count": 65,
   "metadata": {},
   "outputs": [],
   "source": [
    "#Import Dependencies\n",
    "import pandas as pd\n",
    "import os\n",
    "import csv\n",
    "import requests\n",
    "import matplotlib.pyplot as plt\n",
    "from config import api_key \n",
    "import json\n",
    "import pprint\n",
    "import kdtree\n",
    "import random\n",
    "import scipy.stats as sts\n",
    "from sklearn import datasets"
   ]
  },
  {
   "cell_type": "code",
   "execution_count": 66,
   "metadata": {},
   "outputs": [],
   "source": [
    "#Create connection for Open Weather Map \n",
    "#Identify location and URL logic for open weather map\n",
    "url=\"http://api.openweathermap.org/data/2.5/weather?q=\"\n",
    "\n",
    "#Create Request URLs and Variables\n",
    "#city_name=\"\"\n",
    "key=\"&appid=\"+ api_key\n",
    "\n",
    "#Obtain cities from PIP install \n",
    "_current_dir, _current_filename = os.path.split(\"C:\\\\Users\\\\porti\\\\anaconda3\\\\lib\\\\site-packages\\\\citipy\\\\citipy.py'>\")\n",
    "_world_cities_csv_path = os.path.join(_current_dir, 'worldcities.csv')\n",
    "_world_cities_kdtree = kdtree.create(dimensions=2)\n",
    "WORLD_CITIES_DICT = {}\n"
   ]
  },
  {
   "cell_type": "code",
   "execution_count": 67,
   "metadata": {},
   "outputs": [
    {
     "name": "stdout",
     "output_type": "stream",
     "text": [
      "http://api.openweathermap.org/data/2.5/weather?q=\n"
     ]
    }
   ],
   "source": [
    "print(url)"
   ]
  },
  {
   "cell_type": "code",
   "execution_count": 68,
   "metadata": {},
   "outputs": [
    {
     "data": {
      "text/plain": [
       "[['lamut',\n",
       "  'saint helens',\n",
       "  'heliconia',\n",
       "  'camargo',\n",
       "  'zaragoza',\n",
       "  'teontepec',\n",
       "  'dhamtari',\n",
       "  'columbus',\n",
       "  'benbrook',\n",
       "  'tungi',\n",
       "  'bassenge',\n",
       "  'orleans',\n",
       "  'mangga',\n",
       "  'shatki',\n",
       "  'lourinha',\n",
       "  'harboore',\n",
       "  'gradinari',\n",
       "  'krasnozatonskiy',\n",
       "  'bollene',\n",
       "  'mazkeret batya',\n",
       "  'poco verde',\n",
       "  'bansi',\n",
       "  'nambucca heads',\n",
       "  'thames',\n",
       "  'maneadero',\n",
       "  'ayios athanasios',\n",
       "  'ishioka',\n",
       "  'hope mills',\n",
       "  'taybad',\n",
       "  'pregassona',\n",
       "  'jarinu',\n",
       "  'kalabagh',\n",
       "  'chichica',\n",
       "  'siay',\n",
       "  'vera cruz',\n",
       "  'flekkefjord',\n",
       "  'rakamaz',\n",
       "  'itzican',\n",
       "  'eppingen',\n",
       "  'sonta',\n",
       "  'lawrenceville',\n",
       "  'pennsauken',\n",
       "  'rio claro',\n",
       "  'sakyla',\n",
       "  'montenegro',\n",
       "  'rajapur',\n",
       "  'cahabon',\n",
       "  'guisa',\n",
       "  'kyaka',\n",
       "  'haliyal',\n",
       "  'kirya']]"
      ]
     },
     "execution_count": 68,
     "metadata": {},
     "output_type": "execute_result"
    }
   ],
   "source": [
    "#Access Random City Data\n",
    "with open(_world_cities_csv_path, 'r') as csv_file:\n",
    "    cities = csv.reader(csv_file)\n",
    "    # discard the headers\n",
    "    cities.__next__()\n",
    "    city_list=[]\n",
    "    random_cities=[]\n",
    "    for city in cities:\n",
    "        city_coordinate_key = (float(city[2]), float(city[3]))\n",
    "        _world_cities_kdtree.add(city_coordinate_key)\n",
    "        city_list.append(city[1])\n",
    "random_cities.append(random.choices(city_list,k=51))\n",
    "random_cities"
   ]
  },
  {
   "cell_type": "code",
   "execution_count": 78,
   "metadata": {
    "scrolled": false
   },
   "outputs": [
    {
     "name": "stdout",
     "output_type": "stream",
     "text": [
      "Stored 'place' (list)\n"
     ]
    }
   ],
   "source": [
    "#Build Open Weather Request URLs\n",
    "response_list=[]\n",
    "latitude=[]\n",
    "temperature=[]\n",
    "humidity=[]\n",
    "cloudiness=[]\n",
    "windspeed=[]\n",
    "temp_north_hem=[]\n",
    "temp_south_hem=[]\n",
    "hum_north_hem=[]\n",
    "hum_south_hem=[]\n",
    "cloud_north_hem=[]\n",
    "cloud_south_hem=[]\n",
    "wind_north_hem=[]\n",
    "wind_south_hem=[]\n",
    "city_insight=[]\n",
    "place=[]\n",
    "place_location=[]\n",
    "for city in random_cities:\n",
    "    for cur_random_cities in random_cities:\n",
    "        for city in cur_random_cities:\n",
    "            city_data = requests.get(url+city+key).json()\n",
    "            response_list.append(city_data)\n",
    "            try:\n",
    "                name=city_data[\"name\"]\n",
    "                lon=city_data[\"coord\"][\"lon\"]\n",
    "                lat=city_data[\"coord\"][\"lat\"]\n",
    "                humidity=city_data[\"main\"][\"humidity\"]\n",
    "                max_temp=city_data[\"main\"][\"temp_max\"]\n",
    "                windspeed=city_data[\"wind\"][\"speed\"]\n",
    "                cloudiness=city_data[\"clouds\"][\"all\"]\n",
    "                places=[name,lat,lon,humidity,max_temp,windspeed,cloudiness]\n",
    "                coord=(lat,lon)\n",
    "                place.append(places)\n",
    "                place_location.append(coord)               \n",
    "            except:\n",
    "                pass\n",
    "\n",
    "%store place"
   ]
  },
  {
   "cell_type": "code",
   "execution_count": 79,
   "metadata": {},
   "outputs": [
    {
     "name": "stdout",
     "output_type": "stream",
     "text": [
      "Stored 'place_location' (list)\n"
     ]
    }
   ],
   "source": [
    "%store place_location"
   ]
  },
  {
   "cell_type": "code",
   "execution_count": 80,
   "metadata": {},
   "outputs": [],
   "source": [
    "response_list_df=pd.DataFrame(response_list)\n",
    "response_list_df.to_csv(\"random_city_list.csv\")"
   ]
  },
  {
   "cell_type": "code",
   "execution_count": 80,
   "metadata": {
    "scrolled": true
   },
   "outputs": [],
   "source": [
    "try:\n",
    "    for town in response_list:\n",
    "        latitude.append(town[\"coord\"][\"lat\"])\n",
    "        temperature.append(town[\"main\"][\"temp\"])\n",
    "        cloudiness.append(town[\"clouds\"][\"all\"])\n",
    "        windspeed.append(town[\"wind\"][\"speed\"])\n",
    "        humidity.append(town[\"main\"][\"humidity\"])\n",
    "except:\n",
    "    pass"
   ]
  },
  {
   "cell_type": "code",
   "execution_count": 36,
   "metadata": {},
   "outputs": [
    {
     "data": {
      "image/png": "[encoded data removed]",
      "text/plain": [
       "<Figure size 432x288 with 1 Axes>"
      ]
     },
     "metadata": {
      "needs_background": "light"
     },
     "output_type": "display_data"
    }
   ],
   "source": [
    "plt.scatter(temperature,latitude)\n",
    "slope, intercept, r_value, p_value, std_err = sts.linregress(temperature,latitude)\n",
    "plt.title(\"Temp & Lat Relationship\")\n",
    "plt.savefig(\"temp_lat_relationship.png\")\n",
    "#The plot below represents the relationship between temperature and latitude."
   ]
  },
  {
   "cell_type": "code",
   "execution_count": 21,
   "metadata": {},
   "outputs": [
    {
     "name": "stdout",
     "output_type": "stream",
     "text": [
      "292.0937162369916\n",
      "292.14972653902794\n",
      "292.82185016346364\n",
      "292.2897522941187\n",
      "293.21392227771776\n",
      "292.5417986532821\n",
      "292.56980380430025\n",
      "292.5978089553184\n",
      "292.5137935022639\n",
      "292.6258141063366\n",
      "292.5978089553184\n",
      "293.073896522627\n",
      "293.6620046940082\n",
      "291.8416698778283\n",
      "292.96187591855437\n",
      "292.7658398614273\n",
      "292.3737677471732\n",
      "293.4099583348449\n",
      "292.5417986532821\n",
      "294.7542055837162\n",
      "294.39013862048023\n",
      "292.345762596155\n",
      "292.3737677471732\n",
      "293.9700613552079\n",
      "294.4461489225165\n",
      "292.82185016346364\n",
      "293.2979377307722\n"
     ]
    },
    {
     "ename": "KeyError",
     "evalue": "'coord'",
     "output_type": "error",
     "traceback": [
      "\u001b[1;31m---------------------------------------------------------------------------\u001b[0m",
      "\u001b[1;31mKeyError\u001b[0m                                  Traceback (most recent call last)",
      "\u001b[1;32m<ipython-input-21-76954701c1c9>\u001b[0m in \u001b[0;36m<module>\u001b[1;34m\u001b[0m\n\u001b[0;32m      4\u001b[0m \u001b[1;31m#Linear Regression Valuues\u001b[0m\u001b[1;33m\u001b[0m\u001b[1;33m\u001b[0m\u001b[1;33m\u001b[0m\u001b[0m\n\u001b[0;32m      5\u001b[0m \u001b[1;32mfor\u001b[0m \u001b[0mtemp\u001b[0m \u001b[1;32min\u001b[0m \u001b[0mresponse_list\u001b[0m\u001b[1;33m:\u001b[0m\u001b[1;33m\u001b[0m\u001b[1;33m\u001b[0m\u001b[0m\n\u001b[1;32m----> 6\u001b[1;33m     \u001b[0mregress_values\u001b[0m \u001b[1;33m=\u001b[0m \u001b[0mint\u001b[0m\u001b[1;33m(\u001b[0m\u001b[0mtemp\u001b[0m\u001b[1;33m[\u001b[0m\u001b[1;34m'coord'\u001b[0m\u001b[1;33m]\u001b[0m\u001b[1;33m[\u001b[0m\u001b[1;34m\"lat\"\u001b[0m\u001b[1;33m]\u001b[0m\u001b[1;33m)\u001b[0m \u001b[1;33m*\u001b[0m \u001b[0mslope\u001b[0m \u001b[1;33m+\u001b[0m \u001b[0mintercept\u001b[0m\u001b[1;33m\u001b[0m\u001b[1;33m\u001b[0m\u001b[0m\n\u001b[0m\u001b[0;32m      7\u001b[0m     \u001b[0mprint\u001b[0m\u001b[1;33m(\u001b[0m\u001b[0mregress_values\u001b[0m\u001b[1;33m)\u001b[0m\u001b[1;33m\u001b[0m\u001b[1;33m\u001b[0m\u001b[0m\n\u001b[0;32m      8\u001b[0m     \u001b[1;31m#Separate North and South Hemisphere Temps\u001b[0m\u001b[1;33m\u001b[0m\u001b[1;33m\u001b[0m\u001b[1;33m\u001b[0m\u001b[0m\n",
      "\u001b[1;31mKeyError\u001b[0m: 'coord'"
     ]
    }
   ],
   "source": [
    "#Linear Regression Analyis on  Temp & Lat\n",
    "#Linear Regression\n",
    "(slope, intercept, rvalue, pvalue, stderr) = sts.linregress(latitude,temperature)\n",
    "#Linear Regression Valuues\n",
    "for temp in response_list:\n",
    "    regress_values = int(temp['coord'][\"lat\"]) * slope + intercept\n",
    "    print(regress_values)\n",
    "    #Separate North and South Hemisphere Temps\n",
    "    if (temp[\"coord\"][\"lat\"])>=0:\n",
    "        temp_north_hem.append(temp[\"main\"][\"temp\"])\n",
    "    else:\n",
    "        temp_south_hem.append(temp[\"main\"][\"temp\"])\n",
    "# Create line equation string\n",
    "line_eq = \"y = \" + str(round(slope,2)) + \"x +\" + str(round(intercept,2))\n",
    "line_eq"
   ]
  },
  {
   "cell_type": "code",
   "execution_count": 37,
   "metadata": {},
   "outputs": [
    {
     "data": {
      "image/png": "[encoded data removed]",
      "text/plain": [
       "<Figure size 432x288 with 1 Axes>"
      ]
     },
     "metadata": {
      "needs_background": "light"
     },
     "output_type": "display_data"
    }
   ],
   "source": [
    "plt.hist(temp_north_hem)\n",
    "plt.savefig(\"temp_north_hem.png\")"
   ]
  },
  {
   "cell_type": "code",
   "execution_count": 38,
   "metadata": {},
   "outputs": [
    {
     "data": {
      "image/png": "[encoded data removed]",
      "text/plain": [
       "<Figure size 432x288 with 1 Axes>"
      ]
     },
     "metadata": {
      "needs_background": "light"
     },
     "output_type": "display_data"
    }
   ],
   "source": [
    "plt.hist(temp_south_hem)\n",
    "plt.savefig(\"temp_south_hem.png\")\n",
    "#There is an uneven distribution between the random points returned as points of refrence. The majority of reponses\n",
    "#returned would be considered the northern hemisphere. "
   ]
  },
  {
   "cell_type": "code",
   "execution_count": 39,
   "metadata": {},
   "outputs": [
    {
     "data": {
      "image/png": "[encoded data removed]",
      "text/plain": [
       "<Figure size 432x288 with 1 Axes>"
      ]
     },
     "metadata": {
      "needs_background": "light"
     },
     "output_type": "display_data"
    }
   ],
   "source": [
    "plt.scatter(humidity,latitude, color=\"green\")\n",
    "sts.linregress(humidity,latitude)\n",
    "plt.title(\"Humidity & Lat Relationship\")\n",
    "plt.savefig(\"humidity_lat.png\")\n",
    "#The plot below represents the relationship between humidity and latitude."
   ]
  },
  {
   "cell_type": "code",
   "execution_count": 25,
   "metadata": {},
   "outputs": [
    {
     "name": "stdout",
     "output_type": "stream",
     "text": [
      "75.05436462714836\n",
      "75.15114625917516\n",
      "76.3125258434969\n",
      "75.3931003392422\n",
      "76.98999726768457\n",
      "75.82861768336285\n",
      "75.87700849937625\n",
      "75.92539931538965\n",
      "75.78022686734944\n",
      "75.97379013140306\n",
      "75.92539931538965\n",
      "76.74804318761755\n",
      "77.76425032389906\n",
      "74.6188472830277\n",
      "76.55447992356393\n",
      "76.2157442114701\n",
      "75.53827278728241\n",
      "77.32873297977842\n",
      "75.82861768336285\n",
      "79.65149214842188\n",
      "79.02241154024762\n",
      "75.48988197126901\n",
      "75.53827278728241\n",
      "78.29654930004652\n",
      "79.11919317227442\n",
      "76.3125258434969\n",
      "77.1351697157248\n"
     ]
    },
    {
     "ename": "KeyError",
     "evalue": "'coord'",
     "output_type": "error",
     "traceback": [
      "\u001b[1;31m---------------------------------------------------------------------------\u001b[0m",
      "\u001b[1;31mKeyError\u001b[0m                                  Traceback (most recent call last)",
      "\u001b[1;32m<ipython-input-25-2f17d87a0a5f>\u001b[0m in \u001b[0;36m<module>\u001b[1;34m\u001b[0m\n\u001b[0;32m      5\u001b[0m \u001b[1;32mfor\u001b[0m \u001b[0mtemp\u001b[0m \u001b[1;32min\u001b[0m \u001b[0mresponse_list\u001b[0m\u001b[1;33m:\u001b[0m\u001b[1;33m\u001b[0m\u001b[1;33m\u001b[0m\u001b[0m\n\u001b[0;32m      6\u001b[0m     \u001b[1;31m#print(temp[\"main\"][\"humidity\"])\u001b[0m\u001b[1;33m\u001b[0m\u001b[1;33m\u001b[0m\u001b[1;33m\u001b[0m\u001b[0m\n\u001b[1;32m----> 7\u001b[1;33m     \u001b[0mregress_values\u001b[0m \u001b[1;33m=\u001b[0m \u001b[0mint\u001b[0m\u001b[1;33m(\u001b[0m\u001b[0mtemp\u001b[0m\u001b[1;33m[\u001b[0m\u001b[1;34m'coord'\u001b[0m\u001b[1;33m]\u001b[0m\u001b[1;33m[\u001b[0m\u001b[1;34m\"lat\"\u001b[0m\u001b[1;33m]\u001b[0m\u001b[1;33m)\u001b[0m \u001b[1;33m*\u001b[0m \u001b[0mslope\u001b[0m \u001b[1;33m+\u001b[0m \u001b[0mintercept\u001b[0m\u001b[1;33m\u001b[0m\u001b[1;33m\u001b[0m\u001b[0m\n\u001b[0m\u001b[0;32m      8\u001b[0m     \u001b[0mprint\u001b[0m\u001b[1;33m(\u001b[0m\u001b[0mregress_values\u001b[0m\u001b[1;33m)\u001b[0m\u001b[1;33m\u001b[0m\u001b[1;33m\u001b[0m\u001b[0m\n\u001b[0;32m      9\u001b[0m     \u001b[1;31m#Separate North and South Hemisphere humidity\u001b[0m\u001b[1;33m\u001b[0m\u001b[1;33m\u001b[0m\u001b[1;33m\u001b[0m\u001b[0m\n",
      "\u001b[1;31mKeyError\u001b[0m: 'coord'"
     ]
    }
   ],
   "source": [
    "#Linear Regression Analyis on  Temp & Lat\n",
    "#Linear Regression\n",
    "(slope, intercept, rvalue, pvalue, stderr) = sts.linregress(latitude,humidity)\n",
    "#Linear Regression Valuues\n",
    "for temp in response_list:\n",
    "    #print(temp[\"main\"][\"humidity\"])\n",
    "    regress_values = int(temp['coord'][\"lat\"]) * slope + intercept\n",
    "    print(regress_values)\n",
    "    #Separate North and South Hemisphere humidity\n",
    "    if (temp[\"coord\"][\"lat\"])>=0:\n",
    "        hum_north_hem.append(temp[\"main\"][\"humidity\"])\n",
    "    else:\n",
    "        hum_south_hem.append(temp[\"main\"][\"humidity\"])\n",
    "#Create line equation string\n",
    "line_eq = \"y = \" + str(round(slope,2)) + \"x +\" + str(round(intercept,2))\n",
    "line_eq"
   ]
  },
  {
   "cell_type": "code",
   "execution_count": 40,
   "metadata": {},
   "outputs": [
    {
     "data": {
      "image/png": "[encoded data removed]",
      "text/plain": [
       "<Figure size 432x288 with 1 Axes>"
      ]
     },
     "metadata": {
      "needs_background": "light"
     },
     "output_type": "display_data"
    }
   ],
   "source": [
    "plt.hist(hum_north_hem)\n",
    "plt.savefig(\"hum_north_hem.png\")"
   ]
  },
  {
   "cell_type": "code",
   "execution_count": 41,
   "metadata": {},
   "outputs": [
    {
     "data": {
      "image/png": "[encoded data removed]",
      "text/plain": [
       "<Figure size 432x288 with 1 Axes>"
      ]
     },
     "metadata": {
      "needs_background": "light"
     },
     "output_type": "display_data"
    }
   ],
   "source": [
    "plt.hist(hum_south_hem)\n",
    "plt.savefig(\"hum_south_hem.png\")"
   ]
  },
  {
   "cell_type": "code",
   "execution_count": 42,
   "metadata": {},
   "outputs": [
    {
     "data": {
      "image/png": "[encoded data removed]",
      "text/plain": [
       "<Figure size 432x288 with 1 Axes>"
      ]
     },
     "metadata": {
      "needs_background": "light"
     },
     "output_type": "display_data"
    }
   ],
   "source": [
    "plt.scatter(cloudiness,latitude, color=\"orange\")\n",
    "sts.linregress(cloudiness,latitude)\n",
    "plt.title(\"Cloudiness & Lat Relationship\")\n",
    "plt.savefig(\"cloud_lat.png\")\n",
    "#The plot below represents the relationship between cloudiness and latitude."
   ]
  },
  {
   "cell_type": "code",
   "execution_count": 43,
   "metadata": {},
   "outputs": [
    {
     "name": "stdout",
     "output_type": "stream",
     "text": [
      "75.05436462714836\n",
      "75.15114625917516\n",
      "76.3125258434969\n",
      "75.3931003392422\n",
      "76.98999726768457\n",
      "75.82861768336285\n",
      "75.87700849937625\n",
      "75.92539931538965\n",
      "75.78022686734944\n",
      "75.97379013140306\n",
      "75.92539931538965\n",
      "76.74804318761755\n",
      "77.76425032389906\n",
      "74.6188472830277\n",
      "76.55447992356393\n",
      "76.2157442114701\n",
      "75.53827278728241\n",
      "77.32873297977842\n",
      "75.82861768336285\n",
      "79.65149214842188\n",
      "79.02241154024762\n",
      "75.48988197126901\n",
      "75.53827278728241\n",
      "78.29654930004652\n",
      "79.11919317227442\n",
      "76.3125258434969\n",
      "77.1351697157248\n"
     ]
    },
    {
     "ename": "KeyError",
     "evalue": "'coord'",
     "output_type": "error",
     "traceback": [
      "\u001b[1;31m---------------------------------------------------------------------------\u001b[0m",
      "\u001b[1;31mKeyError\u001b[0m                                  Traceback (most recent call last)",
      "\u001b[1;32m<ipython-input-43-a9c9048e861c>\u001b[0m in \u001b[0;36m<module>\u001b[1;34m\u001b[0m\n\u001b[0;32m      5\u001b[0m \u001b[1;32mfor\u001b[0m \u001b[0mtemp\u001b[0m \u001b[1;32min\u001b[0m \u001b[0mresponse_list\u001b[0m\u001b[1;33m:\u001b[0m\u001b[1;33m\u001b[0m\u001b[1;33m\u001b[0m\u001b[0m\n\u001b[0;32m      6\u001b[0m     \u001b[1;31m#print(temp[\"clouds\"][\"all\"])\u001b[0m\u001b[1;33m\u001b[0m\u001b[1;33m\u001b[0m\u001b[1;33m\u001b[0m\u001b[0m\n\u001b[1;32m----> 7\u001b[1;33m     \u001b[0mregress_values\u001b[0m \u001b[1;33m=\u001b[0m \u001b[0mint\u001b[0m\u001b[1;33m(\u001b[0m\u001b[0mtemp\u001b[0m\u001b[1;33m[\u001b[0m\u001b[1;34m'coord'\u001b[0m\u001b[1;33m]\u001b[0m\u001b[1;33m[\u001b[0m\u001b[1;34m\"lat\"\u001b[0m\u001b[1;33m]\u001b[0m\u001b[1;33m)\u001b[0m \u001b[1;33m*\u001b[0m \u001b[0mslope\u001b[0m \u001b[1;33m+\u001b[0m \u001b[0mintercept\u001b[0m\u001b[1;33m\u001b[0m\u001b[1;33m\u001b[0m\u001b[0m\n\u001b[0m\u001b[0;32m      8\u001b[0m     \u001b[0mprint\u001b[0m\u001b[1;33m(\u001b[0m\u001b[0mregress_values\u001b[0m\u001b[1;33m)\u001b[0m\u001b[1;33m\u001b[0m\u001b[1;33m\u001b[0m\u001b[0m\n\u001b[0;32m      9\u001b[0m     \u001b[1;31m#Separate North and South Hemisphere cloudiness\u001b[0m\u001b[1;33m\u001b[0m\u001b[1;33m\u001b[0m\u001b[1;33m\u001b[0m\u001b[0m\n",
      "\u001b[1;31mKeyError\u001b[0m: 'coord'"
     ]
    }
   ],
   "source": [
    "#Linear Regression Analyis on  Temp & Lat\n",
    "#Linear Regression\n",
    "(slope, intercept, rvalue, pvalue, stderr) = sts.linregress(latitude,humidity)\n",
    "#Linear Regression Valuues\n",
    "for temp in response_list:\n",
    "    #print(temp[\"clouds\"][\"all\"])\n",
    "    regress_values = int(temp['coord'][\"lat\"]) * slope + intercept\n",
    "    print(regress_values)\n",
    "    #Separate North and South Hemisphere cloudiness\n",
    "    if (temp[\"coord\"][\"lat\"])>=0:\n",
    "        cloud_north_hem.append(temp[\"clouds\"][\"all\"])\n",
    "    else:\n",
    "        cloud_south_hem.append(temp[\"clouds\"][\"all\"])\n",
    "#Create line equation string\n",
    "line_eq = \"y = \" + str(round(slope,2)) + \"x +\" + str(round(intercept,2))\n",
    "line_eq"
   ]
  },
  {
   "cell_type": "code",
   "execution_count": 44,
   "metadata": {},
   "outputs": [
    {
     "data": {
      "image/png": "[encoded data removed]",
      "text/plain": [
       "<Figure size 432x288 with 1 Axes>"
      ]
     },
     "metadata": {
      "needs_background": "light"
     },
     "output_type": "display_data"
    }
   ],
   "source": [
    "plt.hist(cloud_north_hem)\n",
    "plt.savefig(\"cloud_north_hem.png\")"
   ]
  },
  {
   "cell_type": "code",
   "execution_count": 45,
   "metadata": {},
   "outputs": [
    {
     "data": {
      "image/png": "[encoded data removed]",
      "text/plain": [
       "<Figure size 432x288 with 1 Axes>"
      ]
     },
     "metadata": {
      "needs_background": "light"
     },
     "output_type": "display_data"
    }
   ],
   "source": [
    "plt.hist(cloud_south_hem)\n",
    "plt.savefig(\"cloud_south_hem.png\")"
   ]
  },
  {
   "cell_type": "code",
   "execution_count": 46,
   "metadata": {
    "scrolled": true
   },
   "outputs": [
    {
     "data": {
      "image/png": "[encoded data removed]",
      "text/plain": [
       "<Figure size 432x288 with 1 Axes>"
      ]
     },
     "metadata": {
      "needs_background": "light"
     },
     "output_type": "display_data"
    }
   ],
   "source": [
    "plt.scatter(windspeed,latitude, color=\"hotpink\")\n",
    "sts.linregress(windspeed,latitude)\n",
    "plt.title(\"Wind & Lat Relationship\")\n",
    "plt.savefig(\"wind_lat.png\")\n",
    "#The plot below represents the relationship beteween windspeed and latitude."
   ]
  },
  {
   "cell_type": "code",
   "execution_count": 47,
   "metadata": {},
   "outputs": [
    {
     "name": "stdout",
     "output_type": "stream",
     "text": [
      "75.05436462714836\n",
      "75.15114625917516\n",
      "76.3125258434969\n",
      "75.3931003392422\n",
      "76.98999726768457\n",
      "75.82861768336285\n",
      "75.87700849937625\n",
      "75.92539931538965\n",
      "75.78022686734944\n",
      "75.97379013140306\n",
      "75.92539931538965\n",
      "76.74804318761755\n",
      "77.76425032389906\n",
      "74.6188472830277\n",
      "76.55447992356393\n",
      "76.2157442114701\n",
      "75.53827278728241\n",
      "77.32873297977842\n",
      "75.82861768336285\n",
      "79.65149214842188\n",
      "79.02241154024762\n",
      "75.48988197126901\n",
      "75.53827278728241\n",
      "78.29654930004652\n",
      "79.11919317227442\n",
      "76.3125258434969\n",
      "77.1351697157248\n"
     ]
    },
    {
     "ename": "KeyError",
     "evalue": "'coord'",
     "output_type": "error",
     "traceback": [
      "\u001b[1;31m---------------------------------------------------------------------------\u001b[0m",
      "\u001b[1;31mKeyError\u001b[0m                                  Traceback (most recent call last)",
      "\u001b[1;32m<ipython-input-47-0a50eba92d99>\u001b[0m in \u001b[0;36m<module>\u001b[1;34m\u001b[0m\n\u001b[0;32m      5\u001b[0m \u001b[1;32mfor\u001b[0m \u001b[0mtemp\u001b[0m \u001b[1;32min\u001b[0m \u001b[0mresponse_list\u001b[0m\u001b[1;33m:\u001b[0m\u001b[1;33m\u001b[0m\u001b[1;33m\u001b[0m\u001b[0m\n\u001b[0;32m      6\u001b[0m     \u001b[1;31m#print(temp[\"wind\"][\"speed\"])\u001b[0m\u001b[1;33m\u001b[0m\u001b[1;33m\u001b[0m\u001b[1;33m\u001b[0m\u001b[0m\n\u001b[1;32m----> 7\u001b[1;33m     \u001b[0mregress_values\u001b[0m \u001b[1;33m=\u001b[0m \u001b[0mint\u001b[0m\u001b[1;33m(\u001b[0m\u001b[0mtemp\u001b[0m\u001b[1;33m[\u001b[0m\u001b[1;34m'coord'\u001b[0m\u001b[1;33m]\u001b[0m\u001b[1;33m[\u001b[0m\u001b[1;34m\"lat\"\u001b[0m\u001b[1;33m]\u001b[0m\u001b[1;33m)\u001b[0m \u001b[1;33m*\u001b[0m \u001b[0mslope\u001b[0m \u001b[1;33m+\u001b[0m \u001b[0mintercept\u001b[0m\u001b[1;33m\u001b[0m\u001b[1;33m\u001b[0m\u001b[0m\n\u001b[0m\u001b[0;32m      8\u001b[0m     \u001b[0mprint\u001b[0m\u001b[1;33m(\u001b[0m\u001b[0mregress_values\u001b[0m\u001b[1;33m)\u001b[0m\u001b[1;33m\u001b[0m\u001b[1;33m\u001b[0m\u001b[0m\n\u001b[0;32m      9\u001b[0m     \u001b[1;31m#Separate North and South Hemisphere Wind Speed\u001b[0m\u001b[1;33m\u001b[0m\u001b[1;33m\u001b[0m\u001b[1;33m\u001b[0m\u001b[0m\n",
      "\u001b[1;31mKeyError\u001b[0m: 'coord'"
     ]
    }
   ],
   "source": [
    "#Linear Regression Analyis on  Temp & Lat\n",
    "#Linear Regression\n",
    "(slope, intercept, rvalue, pvalue, stderr) = sts.linregress(latitude,humidity)\n",
    "#Linear Regression Valuues\n",
    "for temp in response_list:\n",
    "    #print(temp[\"wind\"][\"speed\"])\n",
    "    regress_values = int(temp['coord'][\"lat\"]) * slope + intercept\n",
    "    print(regress_values)\n",
    "    #Separate North and South Hemisphere Wind Speed\n",
    "    if (temp[\"coord\"][\"lat\"])>=0:\n",
    "        wind_north_hem.append(temp[\"clouds\"][\"all\"])\n",
    "    else:\n",
    "        wind_south_hem.append(temp[\"clouds\"][\"all\"])\n",
    "#Create line equation string\n",
    "line_eq = \"y = \" + str(round(slope,2)) + \"x +\" + str(round(intercept,2))\n",
    "line_eq"
   ]
  },
  {
   "cell_type": "code",
   "execution_count": 48,
   "metadata": {},
   "outputs": [
    {
     "data": {
      "image/png": "[encoded data removed]",
      "text/plain": [
       "<Figure size 432x288 with 1 Axes>"
      ]
     },
     "metadata": {
      "needs_background": "light"
     },
     "output_type": "display_data"
    }
   ],
   "source": [
    "plt.hist(wind_north_hem)\n",
    "plt.savefig(\"wind_north_hem.png\")"
   ]
  },
  {
   "cell_type": "code",
   "execution_count": 49,
   "metadata": {},
   "outputs": [
    {
     "data": {
      "image/png": "[encoded data removed]",
      "text/plain": [
       "<Figure size 432x288 with 1 Axes>"
      ]
     },
     "metadata": {
      "needs_background": "light"
     },
     "output_type": "display_data"
    }
   ],
   "source": [
    "plt.hist(wind_south_hem)\n",
    "plt.savefig(\"wind_south_hem.png\")"
   ]
  },
  {
   "cell_type": "code",
   "execution_count": null,
   "metadata": {},
   "outputs": [],
   "source": []
  }
 ],
 "metadata": {
  "kernelspec": {
   "display_name": "Python 3",
   "language": "python",
   "name": "python3"
  },
  "language_info": {
   "codemirror_mode": {
    "name": "ipython",
    "version": 3
   },
   "file_extension": ".py",
   "mimetype": "text/x-python",
   "name": "python",
   "nbconvert_exporter": "python",
   "pygments_lexer": "ipython3",
   "version": "3.7.6"
  }
 },
 "nbformat": 4,
 "nbformat_minor": 4
}
