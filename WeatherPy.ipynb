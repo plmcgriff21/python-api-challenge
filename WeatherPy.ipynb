{
 "cells": [
  {
   "cell_type": "code",
   "execution_count": 1,
   "metadata": {},
   "outputs": [],
   "source": [
    "#Import Dependencies\n",
    "import pandas as pd\n",
    "import os\n",
    "import csv\n",
    "import requests\n",
    "import matplotlib.pyplot as plt\n",
    "from config import api_key \n",
    "import json\n",
    "import pprint\n",
    "import kdtree\n",
    "import random\n",
    "import scipy.stats as sts\n",
    "from sklearn import datasets"
   ]
  },
  {
   "cell_type": "code",
   "execution_count": 2,
   "metadata": {},
   "outputs": [],
   "source": [
    "#Create connection for Open Weather Map \n",
    "#Identify location and URL logic for open weather map\n",
    "url=\"http://api.openweathermap.org/data/2.5/weather?q=\"\n",
    "\n",
    "#Create Request URLs and Variables\n",
    "#city_name=\"\"\n",
    "key=\"&appid=\"+ api_key\n",
    "\n",
    "#Obtain cities from PIP install \n",
    "_current_dir, _current_filename = os.path.split(\"C:\\\\Users\\\\porti\\\\anaconda3\\\\lib\\\\site-packages\\\\citipy\\\\citipy.py'>\")\n",
    "_world_cities_csv_path = os.path.join(_current_dir, 'worldcities.csv')\n",
    "_world_cities_kdtree = kdtree.create(dimensions=2)\n",
    "WORLD_CITIES_DICT = {}\n"
   ]
  },
  {
   "cell_type": "code",
   "execution_count": 3,
   "metadata": {},
   "outputs": [
    {
     "name": "stdout",
     "output_type": "stream",
     "text": [
      "http://api.openweathermap.org/data/2.5/weather?q=\n"
     ]
    }
   ],
   "source": [
    "print(url)"
   ]
  },
  {
   "cell_type": "code",
   "execution_count": 4,
   "metadata": {},
   "outputs": [
    {
     "data": {
      "text/plain": [
       "[['soron',\n",
       "  'branistea',\n",
       "  'uren',\n",
       "  'komsomolsk-na-amure',\n",
       "  'linda',\n",
       "  'bad schwartau',\n",
       "  'basesti',\n",
       "  'straubing',\n",
       "  'gargunnock',\n",
       "  'maputo',\n",
       "  'manlleu',\n",
       "  'kirksville',\n",
       "  'tsagan aman',\n",
       "  'north auburn',\n",
       "  'plantation',\n",
       "  'greenfield',\n",
       "  'arani',\n",
       "  'vityazevo',\n",
       "  'binahaan',\n",
       "  'san mariano',\n",
       "  'tabriz',\n",
       "  'ladozhskaya',\n",
       "  'mahemdavad',\n",
       "  'filipesti',\n",
       "  'chynadiyovo',\n",
       "  'ayutuxtepeque',\n",
       "  'kos',\n",
       "  'floreffe',\n",
       "  'tar',\n",
       "  'krutaya gorka',\n",
       "  'sarretudvari',\n",
       "  'strathpeffer',\n",
       "  'shellbrook',\n",
       "  'lantapan',\n",
       "  'ostroveni',\n",
       "  'tanacu',\n",
       "  'shikhazany',\n",
       "  'linan',\n",
       "  'verin getashen',\n",
       "  'mission',\n",
       "  'tet',\n",
       "  'novoblagodarnoye',\n",
       "  'anapskaya',\n",
       "  'khariessa',\n",
       "  'cheuskiny',\n",
       "  'yuzhnyy',\n",
       "  'stockport',\n",
       "  'calzada larga',\n",
       "  'zherdevka',\n",
       "  'rincon',\n",
       "  'oinoussai']]"
      ]
     },
     "execution_count": 4,
     "metadata": {},
     "output_type": "execute_result"
    }
   ],
   "source": [
    "#Access Random City Data\n",
    "with open(_world_cities_csv_path, 'r') as csv_file:\n",
    "    cities = csv.reader(csv_file)\n",
    "    # discard the headers\n",
    "    cities.__next__()\n",
    "    city_list=[]\n",
    "    random_cities=[]\n",
    "    for city in cities:\n",
    "        city_coordinate_key = (float(city[2]), float(city[3]))\n",
    "        _world_cities_kdtree.add(city_coordinate_key)\n",
    "        city_list.append(city[1])\n",
    "random_cities.append(random.choices(city_list,k=51))\n",
    "random_cities"
   ]
  },
  {
   "cell_type": "code",
   "execution_count": 94,
   "metadata": {
    "scrolled": false
   },
   "outputs": [
    {
     "name": "stdout",
     "output_type": "stream",
     "text": [
      "Stored 'place' (list)\n"
     ]
    }
   ],
   "source": [
    "#Build Open Weather Request URLs\n",
    "response_list=[]\n",
    "latitude_list=[]\n",
    "temperature_list=[]\n",
    "humidity_list=[]\n",
    "cloudiness_list=[]\n",
    "windspeed_list=[]\n",
    "temp_north_hem=[]\n",
    "temp_south_hem=[]\n",
    "hum_north_hem=[]\n",
    "hum_south_hem=[]\n",
    "cloud_north_hem=[]\n",
    "cloud_south_hem=[]\n",
    "wind_north_hem=[]\n",
    "wind_south_hem=[]\n",
    "city_insight=[]\n",
    "place=[]\n",
    "place_location=[]\n",
    "for city in random_cities:\n",
    "    for cur_random_cities in random_cities:\n",
    "        for city in cur_random_cities:\n",
    "            city_data = requests.get(url+city+key).json()\n",
    "            response_list.append(city_data)\n",
    "            try:\n",
    "                name=city_data[\"name\"]\n",
    "                lon=city_data[\"coord\"][\"lon\"]\n",
    "                lat=city_data[\"coord\"][\"lat\"]\n",
    "                humidity=city_data[\"main\"][\"humidity\"]\n",
    "                max_temp=(city_data[\"main\"][\"temp_max\"]-273.15)*1.8+32\n",
    "                windspeed=city_data[\"wind\"][\"speed\"]\n",
    "                cloudiness=city_data[\"clouds\"][\"all\"]\n",
    "                places=[name,lat,lon,humidity,max_temp,windspeed,cloudiness]\n",
    "                coord=(lat,lon)\n",
    "                place.append(places)\n",
    "                place_location.append(coord)               \n",
    "            except:\n",
    "                pass\n",
    "\n",
    "%store place\n"
   ]
  },
  {
   "cell_type": "code",
   "execution_count": 95,
   "metadata": {},
   "outputs": [
    {
     "name": "stdout",
     "output_type": "stream",
     "text": [
      "{'coord': {'lon': 78.75, 'lat': 27.88}, 'weather': [{'id': 803, 'main': 'Clouds', 'description': 'broken clouds', 'icon': '04n'}], 'base': 'stations', 'main': {'temp': 299.83, 'feels_like': 302.86, 'temp_min': 299.83, 'temp_max': 299.83, 'pressure': 1002, 'humidity': 84, 'sea_level': 1002, 'grnd_level': 982}, 'visibility': 10000, 'wind': {'speed': 3.77, 'deg': 145}, 'clouds': {'all': 83}, 'dt': 1598818867, 'sys': {'country': 'IN', 'sunrise': 1598833406, 'sunset': 1598879255}, 'timezone': 19800, 'id': 1255704, 'name': 'Soron', 'cod': 200}\n",
      "{'coord': {'lon': 25.58, 'lat': 44.68}, 'weather': [{'id': 800, 'main': 'Clear', 'description': 'clear sky', 'icon': '01n'}], 'base': 'stations', 'main': {'temp': 297.48, 'feels_like': 298.42, 'temp_min': 296.15, 'temp_max': 298.15, 'pressure': 1014, 'humidity': 64}, 'visibility': 10000, 'wind': {'speed': 2.1, 'deg': 90}, 'clouds': {'all': 0}, 'dt': 1598818867, 'sys': {'type': 1, 'id': 6919, 'country': 'RO', 'sunrise': 1598758691, 'sunset': 1598806724}, 'timezone': 10800, 'id': 683863, 'name': 'Braniştea', 'cod': 200}\n",
      "{'coord': {'lon': 45.79, 'lat': 57.46}, 'weather': [{'id': 804, 'main': 'Clouds', 'description': 'overcast clouds', 'icon': '04n'}], 'base': 'stations', 'main': {'temp': 288.5, 'feels_like': 287.37, 'temp_min': 288.5, 'temp_max': 288.5, 'pressure': 1014, 'humidity': 91, 'sea_level': 1014, 'grnd_level': 1001}, 'visibility': 10000, 'wind': {'speed': 3.37, 'deg': 208}, 'clouds': {'all': 100}, 'dt': 1598818867, 'sys': {'country': 'RU', 'sunrise': 1598752467, 'sunset': 1598803249}, 'timezone': 10800, 'id': 478757, 'name': \"Uren'\", 'cod': 200}\n",
      "{'coord': {'lon': 137.02, 'lat': 50.55}, 'weather': [{'id': 802, 'main': 'Clouds', 'description': 'scattered clouds', 'icon': '03d'}], 'base': 'stations', 'main': {'temp': 282.06, 'feels_like': 280.41, 'temp_min': 282.06, 'temp_max': 282.06, 'pressure': 1021, 'humidity': 93, 'sea_level': 1021, 'grnd_level': 1017}, 'visibility': 10000, 'wind': {'speed': 1.64, 'deg': 145}, 'clouds': {'all': 50}, 'dt': 1598818868, 'sys': {'country': 'RU', 'sunrise': 1598817880, 'sunset': 1598866818}, 'timezone': 36000, 'id': 2021851, 'name': 'Komsomolsk-on-Amur', 'cod': 200}\n",
      "{'coord': {'lon': -121.55, 'lat': 39.13}, 'weather': [{'id': 721, 'main': 'Haze', 'description': 'haze', 'icon': '50d'}], 'base': 'stations', 'main': {'temp': 303.15, 'feels_like': 301.86, 'temp_min': 303.15, 'temp_max': 303.15, 'pressure': 1009, 'humidity': 35}, 'visibility': 8047, 'wind': {'speed': 3.1, 'deg': 280}, 'clouds': {'all': 1}, 'dt': 1598818868, 'sys': {'type': 1, 'id': 5029, 'country': 'US', 'sunrise': 1598794429, 'sunset': 1598841593}, 'timezone': -25200, 'id': 5366531, 'name': 'Linda', 'cod': 200}\n",
      "{'coord': {'lon': 10.7, 'lat': 53.92}, 'weather': [{'id': 803, 'main': 'Clouds', 'description': 'broken clouds', 'icon': '04n'}], 'base': 'stations', 'main': {'temp': 287.98, 'feels_like': 288.8, 'temp_min': 287.04, 'temp_max': 289.82, 'pressure': 1011, 'humidity': 93}, 'visibility': 10000, 'wind': {'speed': 0.5, 'deg': 0}, 'clouds': {'all': 73}, 'dt': 1598818868, 'sys': {'type': 1, 'id': 1293, 'country': 'DE', 'sunrise': 1598761366, 'sunset': 1598811189}, 'timezone': 7200, 'id': 2953347, 'name': 'Bad Schwartau', 'cod': 200}\n",
      "{'coord': {'lon': 23.15, 'lat': 47.48}, 'weather': [{'id': 800, 'main': 'Clear', 'description': 'clear sky', 'icon': '01n'}], 'base': 'stations', 'main': {'temp': 294.73, 'feels_like': 295.87, 'temp_min': 294.15, 'temp_max': 295.37, 'pressure': 1011, 'humidity': 73}, 'visibility': 10000, 'wind': {'speed': 1.5, 'deg': 50}, 'clouds': {'all': 0}, 'dt': 1598818868, 'sys': {'type': 1, 'id': 6910, 'country': 'RO', 'sunrise': 1598759038, 'sunset': 1598807543}, 'timezone': 10800, 'id': 685299, 'name': 'Băseşti', 'cod': 200}\n",
      "{'coord': {'lon': 12.57, 'lat': 48.88}, 'weather': [{'id': 804, 'main': 'Clouds', 'description': 'overcast clouds', 'icon': '04n'}], 'base': 'stations', 'main': {'temp': 287.19, 'feels_like': 279.95, 'temp_min': 287.04, 'temp_max': 287.59, 'pressure': 1009, 'humidity': 10}, 'visibility': 10000, 'wind': {'speed': 5.38, 'deg': 262}, 'clouds': {'all': 100}, 'dt': 1598818868, 'sys': {'type': 3, 'id': 2000973, 'country': 'DE', 'sunrise': 1598761451, 'sunset': 1598810207}, 'timezone': 7200, 'id': 2826099, 'name': 'Straubing', 'cod': 200}\n",
      "{'coord': {'lon': -4.08, 'lat': 56.12}, 'weather': [{'id': 803, 'main': 'Clouds', 'description': 'broken clouds', 'icon': '04n'}], 'base': 'stations', 'main': {'temp': 285.77, 'feels_like': 284.38, 'temp_min': 285.37, 'temp_max': 286.15, 'pressure': 1021, 'humidity': 76}, 'visibility': 10000, 'wind': {'speed': 1.5, 'deg': 250}, 'clouds': {'all': 83}, 'dt': 1598818869, 'sys': {'type': 1, 'id': 1441, 'country': 'GB', 'sunrise': 1598764640, 'sunset': 1598815009}, 'timezone': 3600, 'id': 2636910, 'name': 'Gargunnock', 'cod': 200}\n",
      "{'coord': {'lon': 32.59, 'lat': -25.97}, 'weather': [{'id': 803, 'main': 'Clouds', 'description': 'broken clouds', 'icon': '04n'}], 'base': 'stations', 'main': {'temp': 289.72, 'feels_like': 285.89, 'temp_min': 289.26, 'temp_max': 290.15, 'pressure': 1023, 'humidity': 67}, 'visibility': 10000, 'wind': {'speed': 5.7, 'deg': 220}, 'clouds': {'all': 75}, 'dt': 1598818869, 'sys': {'type': 1, 'id': 2202, 'country': 'MZ', 'sunrise': 1598760247, 'sunset': 1598801804}, 'timezone': 7200, 'id': 1040652, 'name': 'Maputo', 'cod': 200}\n",
      "{'coord': {'lon': 2.28, 'lat': 42}, 'weather': [{'id': 500, 'main': 'Rain', 'description': 'light rain', 'icon': '10n'}], 'base': 'stations', 'main': {'temp': 287.18, 'feels_like': 287.36, 'temp_min': 287.04, 'temp_max': 287.59, 'pressure': 1018, 'humidity': 92}, 'visibility': 10000, 'wind': {'speed': 0.96, 'deg': 75}, 'rain': {'1h': 0.65}, 'clouds': {'all': 0}, 'dt': 1598818869, 'sys': {'type': 3, 'id': 2033744, 'country': 'ES', 'sunrise': 1598764492, 'sunset': 1598812104}, 'timezone': 7200, 'id': 3117539, 'name': 'Manlleu', 'cod': 200}\n",
      "{'coord': {'lon': -92.58, 'lat': 40.19}, 'weather': [{'id': 800, 'main': 'Clear', 'description': 'clear sky', 'icon': '01d'}], 'base': 'stations', 'main': {'temp': 299.99, 'feels_like': 298, 'temp_min': 299.26, 'temp_max': 300.93, 'pressure': 1010, 'humidity': 39}, 'visibility': 10000, 'wind': {'speed': 3.6, 'deg': 110}, 'clouds': {'all': 1}, 'dt': 1598818869, 'sys': {'type': 1, 'id': 4545, 'country': 'US', 'sunrise': 1598787401, 'sunset': 1598834718}, 'timezone': -18000, 'id': 5055787, 'name': 'Kirksville', 'cod': 200}\n",
      "{'coord': {'lon': 46.72, 'lat': 47.56}, 'weather': [{'id': 800, 'main': 'Clear', 'description': 'clear sky', 'icon': '01n'}], 'base': 'stations', 'main': {'temp': 298.15, 'feels_like': 298.94, 'temp_min': 298.15, 'temp_max': 298.15, 'pressure': 1017, 'humidity': 49}, 'visibility': 10000, 'wind': {'speed': 0.45, 'deg': 315, 'gust': 1.34}, 'clouds': {'all': 0}, 'dt': 1598818583, 'sys': {'type': 3, 'id': 2002036, 'country': 'RU', 'sunrise': 1598753369, 'sunset': 1598801901}, 'timezone': 10800, 'id': 481117, 'name': 'Tsagan Aman', 'cod': 200}\n",
      "{'coord': {'lon': -121.08, 'lat': 38.93}, 'weather': [{'id': 800, 'main': 'Clear', 'description': 'clear sky', 'icon': '01d'}], 'base': 'stations', 'main': {'temp': 304.08, 'feels_like': 303.12, 'temp_min': 303.15, 'temp_max': 305.93, 'pressure': 1012, 'humidity': 33}, 'visibility': 10000, 'wind': {'speed': 2.6, 'deg': 250}, 'clouds': {'all': 1}, 'dt': 1598818870, 'sys': {'type': 1, 'id': 3345, 'country': 'US', 'sunrise': 1598794330, 'sunset': 1598841467}, 'timezone': -25200, 'id': 5377266, 'name': 'North Auburn', 'cod': 200}\n",
      "{'coord': {'lon': -80.23, 'lat': 26.13}, 'weather': [{'id': 802, 'main': 'Clouds', 'description': 'scattered clouds', 'icon': '03d'}], 'base': 'stations', 'main': {'temp': 306.47, 'feels_like': 309.03, 'temp_min': 304.15, 'temp_max': 309.26, 'pressure': 1012, 'humidity': 56}, 'visibility': 10000, 'wind': {'speed': 4.1, 'deg': 150}, 'clouds': {'all': 40}, 'dt': 1598818844, 'sys': {'type': 1, 'id': 4167, 'country': 'US', 'sunrise': 1598785231, 'sunset': 1598830962}, 'timezone': -14400, 'id': 4168782, 'name': 'Plantation', 'cod': 200}\n",
      "{'coord': {'lon': -88.01, 'lat': 42.96}, 'weather': [{'id': 801, 'main': 'Clouds', 'description': 'few clouds', 'icon': '02d'}], 'base': 'stations', 'main': {'temp': 294.63, 'feels_like': 292.83, 'temp_min': 293.71, 'temp_max': 295.93, 'pressure': 1013, 'humidity': 56}, 'visibility': 10000, 'wind': {'speed': 3.6, 'deg': 90}, 'clouds': {'all': 20}, 'dt': 1598818755, 'sys': {'type': 1, 'id': 4908, 'country': 'US', 'sunrise': 1598786107, 'sunset': 1598833819}, 'timezone': -18000, 'id': 5255068, 'name': 'Greenfield', 'cod': 200}\n",
      "{'coord': {'lon': 79.28, 'lat': 12.67}, 'weather': [{'id': 804, 'main': 'Clouds', 'description': 'overcast clouds', 'icon': '04n'}], 'base': 'stations', 'main': {'temp': 299.87, 'feels_like': 303.46, 'temp_min': 299.87, 'temp_max': 299.87, 'pressure': 1007, 'humidity': 80, 'sea_level': 1007, 'grnd_level': 990}, 'visibility': 10000, 'wind': {'speed': 2.34, 'deg': 215}, 'clouds': {'all': 99}, 'dt': 1598818870, 'sys': {'country': 'IN', 'sunrise': 1598833932, 'sunset': 1598878475}, 'timezone': 19800, 'id': 1278454, 'name': 'Arni', 'cod': 200}\n",
      "{'coord': {'lon': 37.27, 'lat': 44.99}, 'weather': [{'id': 800, 'main': 'Clear', 'description': 'clear sky', 'icon': '01n'}], 'base': 'stations', 'main': {'temp': 298.15, 'feels_like': 294.09, 'temp_min': 298.15, 'temp_max': 298.15, 'pressure': 1013, 'humidity': 33}, 'visibility': 10000, 'wind': {'speed': 5, 'deg': 80}, 'clouds': {'all': 0}, 'dt': 1598818870, 'sys': {'type': 1, 'id': 8962, 'country': 'RU', 'sunrise': 1598755858, 'sunset': 1598803946}, 'timezone': 10800, 'id': 473295, 'name': 'Vityazevo', 'cod': 200}\n",
      "{'coord': {'lon': 121.76, 'lat': 13.99}, 'weather': [{'id': 804, 'main': 'Clouds', 'description': 'overcast clouds', 'icon': '04n'}], 'base': 'stations', 'main': {'temp': 299.82, 'feels_like': 304.2, 'temp_min': 299.82, 'temp_max': 299.82, 'pressure': 1004, 'humidity': 81}, 'visibility': 10000, 'wind': {'speed': 1.34, 'deg': 189, 'gust': 5.81}, 'clouds': {'all': 100}, 'dt': 1598818871, 'sys': {'type': 3, 'id': 2011004, 'country': 'PH', 'sunrise': 1598823684, 'sunset': 1598868337}, 'timezone': 28800, 'id': 1725173, 'name': 'Binahaan', 'cod': 200}\n",
      "{'coord': {'lon': 126, 'lat': 7.5}, 'weather': [{'id': 802, 'main': 'Clouds', 'description': 'scattered clouds', 'icon': '03n'}], 'base': 'stations', 'main': {'temp': 299.15, 'feels_like': 304.5, 'temp_min': 299.15, 'temp_max': 299.15, 'pressure': 1008, 'humidity': 94}, 'visibility': 10000, 'wind': {'speed': 1.5, 'deg': 320}, 'clouds': {'all': 40}, 'dt': 1598818871, 'sys': {'type': 1, 'id': 8154, 'country': 'PH', 'sunrise': 1598822916, 'sunset': 1598867070}, 'timezone': 28800, 'id': 1689087, 'name': 'San Mariano', 'cod': 200}\n",
      "{'coord': {'lon': 46.29, 'lat': 38.08}, 'weather': [{'id': 800, 'main': 'Clear', 'description': 'clear sky', 'icon': '01n'}], 'base': 'stations', 'main': {'temp': 296.15, 'feels_like': 290.86, 'temp_min': 296.15, 'temp_max': 296.15, 'pressure': 1022, 'humidity': 33}, 'visibility': 10000, 'wind': {'speed': 6.2, 'deg': 100}, 'clouds': {'all': 0}, 'dt': 1598818623, 'sys': {'type': 1, 'id': 7509, 'country': 'IR', 'sunrise': 1598840643, 'sunset': 1598887596}, 'timezone': 16200, 'id': 113646, 'name': 'Tabriz', 'cod': 200}\n",
      "{'coord': {'lon': 39.94, 'lat': 45.31}, 'weather': [{'id': 800, 'main': 'Clear', 'description': 'clear sky', 'icon': '01n'}], 'base': 'stations', 'main': {'temp': 300.02, 'feels_like': 294.84, 'temp_min': 299.82, 'temp_max': 300.15, 'pressure': 1014, 'humidity': 32}, 'visibility': 10000, 'wind': {'speed': 7, 'deg': 60}, 'clouds': {'all': 0}, 'dt': 1598818868, 'sys': {'type': 1, 'id': 8963, 'country': 'RU', 'sunrise': 1598755191, 'sunset': 1598803333}, 'timezone': 10800, 'id': 537235, 'name': 'Ladozhskaya', 'cod': 200}\n",
      "{'coord': {'lon': 72.77, 'lat': 22.83}, 'weather': [{'id': 300, 'main': 'Drizzle', 'description': 'light intensity drizzle', 'icon': '09n'}], 'base': 'stations', 'main': {'temp': 299.15, 'feels_like': 303.38, 'temp_min': 299.15, 'temp_max': 299.15, 'pressure': 1002, 'humidity': 94}, 'visibility': 2500, 'wind': {'speed': 3.1, 'deg': 220}, 'clouds': {'all': 90}, 'dt': 1598818872, 'sys': {'type': 1, 'id': 9049, 'country': 'IN', 'sunrise': 1598835076, 'sunset': 1598880456}, 'timezone': 19800, 'id': 1264398, 'name': 'Mahemdāvād', 'cod': 200}\n",
      "{'coord': {'lon': 26.88, 'lat': 46.75}, 'weather': [{'id': 800, 'main': 'Clear', 'description': 'clear sky', 'icon': '01n'}], 'base': 'stations', 'main': {'temp': 294.47, 'feels_like': 291.91, 'temp_min': 291.48, 'temp_max': 296.15, 'pressure': 1014, 'humidity': 60}, 'visibility': 10000, 'wind': {'speed': 5.1, 'deg': 170}, 'clouds': {'all': 0}, 'dt': 1598818872, 'sys': {'type': 1, 'id': 6909, 'country': 'RO', 'sunrise': 1598758206, 'sunset': 1598806584}, 'timezone': 10800, 'id': 678248, 'name': 'Filipeşti', 'cod': 200}\n",
      "{'coord': {'lon': 22.82, 'lat': 48.48}, 'weather': [{'id': 800, 'main': 'Clear', 'description': 'clear sky', 'icon': '01n'}], 'base': 'stations', 'main': {'temp': 290.93, 'feels_like': 285.95, 'temp_min': 290.93, 'temp_max': 290.93, 'pressure': 1016, 'humidity': 74}, 'visibility': 10000, 'wind': {'speed': 8.49, 'deg': 313, 'gust': 14.31}, 'clouds': {'all': 0}, 'dt': 1598818872, 'sys': {'type': 3, 'id': 2020870, 'country': 'UA', 'sunrise': 1598759026, 'sunset': 1598807713}, 'timezone': 10800, 'id': 710463, 'name': 'Chynadiyovo', 'cod': 200}\n",
      "{'coord': {'lon': -89.21, 'lat': 13.75}, 'weather': [{'id': 802, 'main': 'Clouds', 'description': 'scattered clouds', 'icon': '03d'}], 'base': 'stations', 'main': {'temp': 302.39, 'feels_like': 304.5, 'temp_min': 301.48, 'temp_max': 304.15, 'pressure': 1015, 'humidity': 62}, 'visibility': 10000, 'wind': {'speed': 3.1, 'deg': 130}, 'clouds': {'all': 40}, 'dt': 1598818872, 'sys': {'type': 1, 'id': 7219, 'country': 'SV', 'sunrise': 1598787925, 'sunset': 1598832577}, 'timezone': -21600, 'id': 3587308, 'name': 'Ayutuxtepeque', 'cod': 200}\n",
      "{'coord': {'lon': 27.29, 'lat': 36.89}, 'weather': [{'id': 800, 'main': 'Clear', 'description': 'clear sky', 'icon': '01n'}], 'base': 'stations', 'main': {'temp': 298.15, 'feels_like': 299.58, 'temp_min': 298.15, 'temp_max': 298.15, 'pressure': 1010, 'humidity': 83}, 'visibility': 10000, 'wind': {'speed': 4.6, 'deg': 320}, 'clouds': {'all': 0}, 'dt': 1598818873, 'sys': {'type': 1, 'id': 6618, 'country': 'GR', 'sunrise': 1598758830, 'sunset': 1598805764}, 'timezone': 10800, 'id': 259245, 'name': 'Kos', 'cod': 200}\n",
      "{'coord': {'lon': 4.76, 'lat': 50.43}, 'weather': [{'id': 804, 'main': 'Clouds', 'description': 'overcast clouds', 'icon': '04n'}], 'base': 'stations', 'main': {'temp': 286.96, 'feels_like': 284.58, 'temp_min': 286.15, 'temp_max': 287.59, 'pressure': 1015, 'humidity': 93}, 'visibility': 10000, 'wind': {'speed': 4.6, 'deg': 330}, 'clouds': {'all': 96}, 'dt': 1598818873, 'sys': {'type': 1, 'id': 1234, 'country': 'BE', 'sunrise': 1598763176, 'sunset': 1598812230}, 'timezone': 7200, 'id': 2798280, 'name': 'Floreffe', 'cod': 200}\n",
      "{'coord': {'lon': 19.75, 'lat': 47.95}, 'weather': [{'id': 804, 'main': 'Clouds', 'description': 'overcast clouds', 'icon': '04n'}], 'base': 'stations', 'main': {'temp': 299.88, 'feels_like': 301.1, 'temp_min': 298.15, 'temp_max': 300.37, 'pressure': 1008, 'humidity': 61}, 'visibility': 10000, 'wind': {'speed': 2.6, 'deg': 150}, 'clouds': {'all': 100}, 'dt': 1598818873, 'sys': {'type': 1, 'id': 6663, 'country': 'HU', 'sunrise': 1598759813, 'sunset': 1598808400}, 'timezone': 7200, 'id': 3044131, 'name': 'Tar', 'cod': 200}\n",
      "{'coord': {'lon': 73.22, 'lat': 55.36}, 'weather': [{'id': 500, 'main': 'Rain', 'description': 'light rain', 'icon': '10n'}], 'base': 'stations', 'main': {'temp': 292.15, 'feels_like': 290.51, 'temp_min': 292.15, 'temp_max': 292.15, 'pressure': 1017, 'humidity': 52}, 'visibility': 10000, 'wind': {'speed': 2, 'deg': 260}, 'rain': {'1h': 0.42}, 'clouds': {'all': 10}, 'dt': 1598818874, 'sys': {'type': 1, 'id': 8960, 'country': 'RU', 'sunrise': 1598832677, 'sunset': 1598882638}, 'timezone': 21600, 'id': 1501710, 'name': 'Krutaya Gorka', 'cod': 200}\n",
      "{'coord': {'lon': 21.2, 'lat': 47.23}, 'weather': [{'id': 800, 'main': 'Clear', 'description': 'clear sky', 'icon': '01n'}], 'base': 'stations', 'main': {'temp': 300.22, 'feels_like': 299.01, 'temp_min': 300.15, 'temp_max': 300.37, 'pressure': 1009, 'humidity': 51}, 'visibility': 10000, 'wind': {'speed': 4.6, 'deg': 160}, 'clouds': {'all': 0}, 'dt': 1598818874, 'sys': {'type': 1, 'id': 6665, 'country': 'HU', 'sunrise': 1598759529, 'sunset': 1598807988}, 'timezone': 7200, 'id': 715862, 'name': 'Sárrétudvari', 'cod': 200}\n",
      "{'coord': {'lon': -4.54, 'lat': 57.59}, 'weather': [{'id': 801, 'main': 'Clouds', 'description': 'few clouds', 'icon': '02n'}], 'base': 'stations', 'main': {'temp': 284.94, 'feels_like': 284.46, 'temp_min': 284.26, 'temp_max': 285.37, 'pressure': 1021, 'humidity': 87}, 'visibility': 10000, 'wind': {'speed': 0.64, 'deg': 37}, 'clouds': {'all': 20}, 'dt': 1598818874, 'sys': {'type': 1, 'id': 1435, 'country': 'GB', 'sunrise': 1598764545, 'sunset': 1598815324}, 'timezone': 3600, 'id': 2651245, 'name': 'Strathpeffer', 'cod': 200}\n",
      "{'coord': {'lon': -106.4, 'lat': 53.22}, 'weather': [{'id': 804, 'main': 'Clouds', 'description': 'overcast clouds', 'icon': '04d'}], 'base': 'stations', 'main': {'temp': 286.15, 'feels_like': 279.77, 'temp_min': 286.15, 'temp_max': 286.15, 'pressure': 1003, 'humidity': 54}, 'visibility': 10000, 'wind': {'speed': 7.2, 'deg': 270, 'gust': 10.8}, 'clouds': {'all': 90}, 'dt': 1598818874, 'sys': {'type': 1, 'id': 875, 'country': 'CA', 'sunrise': 1598789586, 'sunset': 1598839166}, 'timezone': -21600, 'id': 6145951, 'name': 'Shellbrook', 'cod': 200}\n",
      "{'coord': {'lon': 125.03, 'lat': 8}, 'weather': [{'id': 803, 'main': 'Clouds', 'description': 'broken clouds', 'icon': '04n'}], 'base': 'stations', 'main': {'temp': 293.19, 'feels_like': 294.43, 'temp_min': 293.19, 'temp_max': 293.19, 'pressure': 1008, 'humidity': 79, 'sea_level': 1008, 'grnd_level': 941}, 'visibility': 10000, 'wind': {'speed': 1.22, 'deg': 285}, 'clouds': {'all': 68}, 'dt': 1598818874, 'sys': {'country': 'PH', 'sunrise': 1598823130, 'sunset': 1598867322}, 'timezone': 28800, 'id': 1707438, 'name': 'Lantapan', 'cod': 200}\n",
      "{'coord': {'lon': 23.9, 'lat': 43.8}, 'weather': [{'id': 800, 'main': 'Clear', 'description': 'clear sky', 'icon': '01n'}], 'base': 'stations', 'main': {'temp': 296.18, 'feels_like': 293.71, 'temp_min': 295.93, 'temp_max': 296.48, 'pressure': 1013, 'humidity': 40}, 'visibility': 10000, 'wind': {'speed': 3.1, 'deg': 50}, 'clouds': {'all': 0}, 'dt': 1598818875, 'sys': {'type': 1, 'id': 6914, 'country': 'RO', 'sunrise': 1598759164, 'sunset': 1598807057}, 'timezone': 10800, 'id': 671626, 'name': 'Ostroveni', 'cod': 200}\n",
      "{'coord': {'lon': 27.82, 'lat': 46.68}, 'weather': [{'id': 800, 'main': 'Clear', 'description': 'clear sky', 'icon': '01n'}], 'base': 'stations', 'main': {'temp': 300.26, 'feels_like': 297.05, 'temp_min': 300.15, 'temp_max': 300.37, 'pressure': 1013, 'humidity': 34}, 'visibility': 10000, 'wind': {'speed': 4.6, 'deg': 150}, 'clouds': {'all': 0}, 'dt': 1598818875, 'sys': {'type': 1, 'id': 6916, 'country': 'RO', 'sunrise': 1598757987, 'sunset': 1598806353}, 'timezone': 10800, 'id': 665550, 'name': 'Tanacu', 'cod': 200}\n",
      "{'coord': {'lon': 47.39, 'lat': 55.56}, 'weather': [{'id': 500, 'main': 'Rain', 'description': 'light rain', 'icon': '10n'}], 'base': 'stations', 'main': {'temp': 290.15, 'feels_like': 286.22, 'temp_min': 290.15, 'temp_max': 290.15, 'pressure': 1016, 'humidity': 67}, 'visibility': 10000, 'wind': {'speed': 6, 'deg': 210}, 'rain': {'1h': 0.8}, 'clouds': {'all': 98}, 'dt': 1598818875, 'sys': {'type': 1, 'id': 9042, 'country': 'RU', 'sunrise': 1598752345, 'sunset': 1598802604}, 'timezone': 10800, 'id': 494514, 'name': 'Shikhazany', 'cod': 200}\n",
      "{'coord': {'lon': 124.98, 'lat': 6.43}, 'weather': [{'id': 804, 'main': 'Clouds', 'description': 'overcast clouds', 'icon': '04n'}], 'base': 'stations', 'main': {'temp': 295.75, 'feels_like': 299.1, 'temp_min': 295.75, 'temp_max': 295.75, 'pressure': 1008, 'humidity': 87, 'sea_level': 1008, 'grnd_level': 977}, 'visibility': 10000, 'wind': {'speed': 0.71, 'deg': 131}, 'clouds': {'all': 100}, 'dt': 1598818875, 'sys': {'country': 'PH', 'sunrise': 1598823201, 'sunset': 1598867275}, 'timezone': 28800, 'id': 1706282, 'name': 'Linan', 'cod': 200}\n",
      "{'coord': {'lon': 45.25, 'lat': 40.13}, 'weather': [{'id': 801, 'main': 'Clouds', 'description': 'few clouds', 'icon': '02n'}], 'base': 'stations', 'main': {'temp': 288.26, 'feels_like': 286.51, 'temp_min': 288.26, 'temp_max': 288.26, 'pressure': 1019, 'humidity': 80, 'sea_level': 1019, 'grnd_level': 810}, 'visibility': 10000, 'wind': {'speed': 3.25, 'deg': 35}, 'clouds': {'all': 14}, 'dt': 1598818876, 'sys': {'country': 'AM', 'sunrise': 1598840761, 'sunset': 1598887976}, 'timezone': 14400, 'id': 616094, 'name': 'Verin Getashen', 'cod': 200}\n",
      "{'coord': {'lon': -98.33, 'lat': 26.22}, 'weather': [{'id': 803, 'main': 'Clouds', 'description': 'broken clouds', 'icon': '04d'}], 'base': 'stations', 'main': {'temp': 310.05, 'feels_like': 310.04, 'temp_min': 309.15, 'temp_max': 310.37, 'pressure': 1007, 'humidity': 44}, 'visibility': 10000, 'wind': {'speed': 7.2, 'deg': 160, 'gust': 9.3}, 'clouds': {'all': 75}, 'dt': 1598818619, 'sys': {'type': 1, 'id': 4874, 'country': 'US', 'sunrise': 1598789572, 'sunset': 1598835307}, 'timezone': -18000, 'id': 4711725, 'name': 'Mission', 'cod': 200}\n",
      "{'coord': {'lon': 17.51, 'lat': 47.52}, 'weather': [{'id': 804, 'main': 'Clouds', 'description': 'overcast clouds', 'icon': '04n'}], 'base': 'stations', 'main': {'temp': 297.11, 'feels_like': 296.82, 'temp_min': 296.15, 'temp_max': 298.15, 'pressure': 1008, 'humidity': 60}, 'visibility': 10000, 'wind': {'speed': 3.1, 'deg': 190}, 'clouds': {'all': 100}, 'dt': 1598818876, 'sys': {'type': 1, 'id': 6668, 'country': 'HU', 'sunrise': 1598760389, 'sunset': 1598808898}, 'timezone': 7200, 'id': 3043946, 'name': 'Tét', 'cod': 200}\n",
      "{'coord': {'lon': 42.88, 'lat': 44.14}, 'weather': [{'id': 800, 'main': 'Clear', 'description': 'clear sky', 'icon': '01n'}], 'base': 'stations', 'main': {'temp': 293.15, 'feels_like': 289.81, 'temp_min': 293.15, 'temp_max': 293.15, 'pressure': 1018, 'humidity': 45}, 'visibility': 10000, 'wind': {'speed': 4, 'deg': 130}, 'clouds': {'all': 0}, 'dt': 1598818876, 'sys': {'type': 1, 'id': 8966, 'country': 'RU', 'sunrise': 1598754579, 'sunset': 1598802534}, 'timezone': 10800, 'id': 519005, 'name': 'Novoblagodarnoye', 'cod': 200}\n",
      "{'coord': {'lon': 37.38, 'lat': 44.89}, 'weather': [{'id': 800, 'main': 'Clear', 'description': 'clear sky', 'icon': '01n'}], 'base': 'stations', 'main': {'temp': 298.15, 'feels_like': 294.09, 'temp_min': 298.15, 'temp_max': 298.15, 'pressure': 1013, 'humidity': 33}, 'visibility': 10000, 'wind': {'speed': 5, 'deg': 80}, 'clouds': {'all': 0}, 'dt': 1598818877, 'sys': {'type': 1, 'id': 8962, 'country': 'RU', 'sunrise': 1598755840, 'sunset': 1598803912}, 'timezone': 10800, 'id': 582181, 'name': 'Anapskaya', 'cod': 200}\n",
      "{'cod': '404', 'message': 'city not found'}\n"
     ]
    }
   ],
   "source": [
    "try:\n",
    "    for place in response_list: \n",
    "            print(place)\n",
    "            latitude_list.append(place['coord']['lat'])\n",
    "            temperature_list.append((place['main']['temp']-273.15)*1.8+32)\n",
    "            cloudiness_list.append(place['clouds']['all'])\n",
    "            windspeed_list.append(place['wind']['speed'])\n",
    "            humidity_list.append(place['main']['humidity'])\n",
    "except:\n",
    "    pass"
   ]
  },
  {
   "cell_type": "code",
   "execution_count": 96,
   "metadata": {},
   "outputs": [
    {
     "name": "stdout",
     "output_type": "stream",
     "text": [
      "Stored 'place_location' (list)\n"
     ]
    }
   ],
   "source": [
    "%store place_location"
   ]
  },
  {
   "cell_type": "code",
   "execution_count": 97,
   "metadata": {},
   "outputs": [],
   "source": [
    "response_list_df=pd.DataFrame(response_list)\n",
    "response_list_df.to_csv(\"random_city_list.csv\")\n"
   ]
  },
  {
   "cell_type": "code",
   "execution_count": 98,
   "metadata": {},
   "outputs": [
    {
     "data": {
      "text/plain": [
       "[27.88,\n",
       " 44.68,\n",
       " 57.46,\n",
       " 50.55,\n",
       " 39.13,\n",
       " 53.92,\n",
       " 47.48,\n",
       " 48.88,\n",
       " 56.12,\n",
       " -25.97,\n",
       " 42,\n",
       " 40.19,\n",
       " 47.56,\n",
       " 38.93,\n",
       " 26.13,\n",
       " 42.96,\n",
       " 12.67,\n",
       " 44.99,\n",
       " 13.99,\n",
       " 7.5,\n",
       " 38.08,\n",
       " 45.31,\n",
       " 22.83,\n",
       " 46.75,\n",
       " 48.48,\n",
       " 13.75,\n",
       " 36.89,\n",
       " 50.43,\n",
       " 47.95,\n",
       " 55.36,\n",
       " 47.23,\n",
       " 57.59,\n",
       " 53.22,\n",
       " 8,\n",
       " 43.8,\n",
       " 46.68,\n",
       " 55.56,\n",
       " 6.43,\n",
       " 40.13,\n",
       " 26.22,\n",
       " 47.52,\n",
       " 44.14,\n",
       " 44.89]"
      ]
     },
     "execution_count": 98,
     "metadata": {},
     "output_type": "execute_result"
    }
   ],
   "source": [
    "latitude_list"
   ]
  },
  {
   "cell_type": "code",
   "execution_count": 99,
   "metadata": {},
   "outputs": [
    {
     "data": {
      "text/plain": [
       "[80.02400000000002,\n",
       " 75.79400000000007,\n",
       " 59.63000000000004,\n",
       " 48.038000000000046,\n",
       " 86.0,\n",
       " 58.694000000000074,\n",
       " 70.84400000000008,\n",
       " 57.272000000000034,\n",
       " 54.71600000000001,\n",
       " 61.82600000000009,\n",
       " 57.254000000000055,\n",
       " 80.31200000000007,\n",
       " 77.0,\n",
       " 87.674,\n",
       " 91.97600000000008,\n",
       " 70.66400000000004,\n",
       " 80.09600000000006,\n",
       " 77.0,\n",
       " 80.00600000000003,\n",
       " 78.80000000000001,\n",
       " 73.4,\n",
       " 80.36600000000001,\n",
       " 78.80000000000001,\n",
       " 70.37600000000009,\n",
       " 64.00400000000005,\n",
       " 84.63200000000002,\n",
       " 77.0,\n",
       " 56.858000000000004,\n",
       " 80.11400000000003,\n",
       " 66.2,\n",
       " 80.72600000000008,\n",
       " 53.22200000000004,\n",
       " 55.400000000000006,\n",
       " 68.07200000000003,\n",
       " 73.45400000000006,\n",
       " 80.79800000000003,\n",
       " 62.6,\n",
       " 72.68000000000004,\n",
       " 59.19800000000002,\n",
       " 98.42000000000006,\n",
       " 75.12800000000007,\n",
       " 68.0,\n",
       " 77.0]"
      ]
     },
     "execution_count": 99,
     "metadata": {},
     "output_type": "execute_result"
    }
   ],
   "source": [
    "temperature_list"
   ]
  },
  {
   "cell_type": "code",
   "execution_count": 100,
   "metadata": {},
   "outputs": [
    {
     "data": {
      "text/plain": [
       "Text(22.0, 0.5, 'Lat')"
      ]
     },
     "execution_count": 100,
     "metadata": {},
     "output_type": "execute_result"
    },
    {
     "data": {
      "image/png": "[encoded data removed]",
      "text/plain": [
       "<Figure size 432x288 with 1 Axes>"
      ]
     },
     "metadata": {
      "needs_background": "light"
     },
     "output_type": "display_data"
    }
   ],
   "source": [
    "plt.scatter(temperature_list,latitude_list)\n",
    "slope, intercept, r_value, p_value, std_err = sts.linregress(temperature_list,latitude_list)\n",
    "plt.title(\"Temp & Lat Relationship\")\n",
    "plt.savefig(\"temp_lat_relationship.png\")\n",
    "plt.xlabel(\"Temp\")\n",
    "plt.ylabel(\"Lat\")\n",
    "#The plot below represents the relationship between temperature and latitude."
   ]
  },
  {
   "cell_type": "code",
   "execution_count": 101,
   "metadata": {},
   "outputs": [
    {
     "name": "stdout",
     "output_type": "stream",
     "text": [
      "62.08226201251833\n",
      "53.04722357367072\n",
      "46.138076532199015\n",
      "49.85838647760686\n",
      "55.7045878203906\n",
      "48.26396792957492\n",
      "51.45280502563878\n",
      "50.92133217629481\n",
      "46.66954938154299\n",
      "89.71885017840513\n",
      "54.110169272358675\n",
      "55.17311497104662\n",
      "51.45280502563878\n",
      "56.23606066973458\n",
      "62.613734861862305\n",
      "54.110169272358675\n",
      "70.05435475267798\n",
      "53.04722357367072\n",
      "69.52288190333401\n",
      "72.71171899939787\n",
      "56.23606066973458\n",
      "52.515750724326736\n",
      "64.73962625923821\n",
      "51.984277874982766\n",
      "50.92133217629481\n",
      "69.52288190333401\n",
      "57.29900636842253\n",
      "49.85838647760686\n",
      "51.45280502563878\n",
      "47.20102223088696\n",
      "51.45280502563878\n",
      "46.138076532199015\n",
      "48.26396792957492\n",
      "72.18024615005389\n",
      "53.57869642301469\n",
      "51.984277874982766\n",
      "47.20102223088696\n",
      "73.24319184874184\n",
      "55.17311497104662\n",
      "62.613734861862305\n",
      "51.45280502563878\n",
      "53.04722357367072\n",
      "53.04722357367072\n"
     ]
    },
    {
     "ename": "KeyError",
     "evalue": "'coord'",
     "output_type": "error",
     "traceback": [
      "\u001b[1;31m---------------------------------------------------------------------------\u001b[0m",
      "\u001b[1;31mKeyError\u001b[0m                                  Traceback (most recent call last)",
      "\u001b[1;32m<ipython-input-101-db24a9817d58>\u001b[0m in \u001b[0;36m<module>\u001b[1;34m\u001b[0m\n\u001b[0;32m      4\u001b[0m \u001b[1;31m#Linear Regression Valuues\u001b[0m\u001b[1;33m\u001b[0m\u001b[1;33m\u001b[0m\u001b[1;33m\u001b[0m\u001b[0m\n\u001b[0;32m      5\u001b[0m \u001b[1;32mfor\u001b[0m \u001b[0mtemp\u001b[0m \u001b[1;32min\u001b[0m \u001b[0mresponse_list\u001b[0m\u001b[1;33m:\u001b[0m\u001b[1;33m\u001b[0m\u001b[1;33m\u001b[0m\u001b[0m\n\u001b[1;32m----> 6\u001b[1;33m     \u001b[0mregress_values\u001b[0m \u001b[1;33m=\u001b[0m \u001b[0mint\u001b[0m\u001b[1;33m(\u001b[0m\u001b[0mtemp\u001b[0m\u001b[1;33m[\u001b[0m\u001b[1;34m'coord'\u001b[0m\u001b[1;33m]\u001b[0m\u001b[1;33m[\u001b[0m\u001b[1;34m'lat'\u001b[0m\u001b[1;33m]\u001b[0m\u001b[1;33m)\u001b[0m \u001b[1;33m*\u001b[0m \u001b[0mslope\u001b[0m \u001b[1;33m+\u001b[0m \u001b[0mintercept\u001b[0m\u001b[1;33m\u001b[0m\u001b[1;33m\u001b[0m\u001b[0m\n\u001b[0m\u001b[0;32m      7\u001b[0m     \u001b[0mprint\u001b[0m\u001b[1;33m(\u001b[0m\u001b[0mregress_values\u001b[0m\u001b[1;33m)\u001b[0m\u001b[1;33m\u001b[0m\u001b[1;33m\u001b[0m\u001b[0m\n\u001b[0;32m      8\u001b[0m     \u001b[1;31m#Separate North and South Hemisphere Temps\u001b[0m\u001b[1;33m\u001b[0m\u001b[1;33m\u001b[0m\u001b[1;33m\u001b[0m\u001b[0m\n",
      "\u001b[1;31mKeyError\u001b[0m: 'coord'"
     ]
    }
   ],
   "source": [
    "#Linear Regression Analyis on  Temp & Lat\n",
    "#Linear Regression\n",
    "(slope, intercept, rvalue, pvalue, stderr) = sts.linregress(temperature_list,latitude_list)\n",
    "#Linear Regression Valuues\n",
    "for temp in response_list:\n",
    "    regress_values = int(temp['coord']['lat']) * slope + intercept\n",
    "    print(regress_values)\n",
    "    #Separate North and South Hemisphere Temps\n",
    "    if (temp[\"coord\"][\"lat\"])>=0:\n",
    "        temp_north_hem.append((temp[\"main\"][\"temp\"]-273.15)*1.8+32)\n",
    "    else:\n",
    "        temp_south_hem.append((temp[\"main\"][\"temp\"]-273.15)*1.8+32)\n",
    "# Create line equation string\n",
    "line_eq = \"y = \" + str(round(slope,2)) + \"x +\" + str(round(intercept,2))\n",
    "line_eq"
   ]
  },
  {
   "cell_type": "code",
   "execution_count": 102,
   "metadata": {},
   "outputs": [
    {
     "data": {
      "image/png": "[encoded data removed]",
      "text/plain": [
       "<Figure size 432x288 with 1 Axes>"
      ]
     },
     "metadata": {
      "needs_background": "light"
     },
     "output_type": "display_data"
    }
   ],
   "source": [
    "#histogram of temps in the northern hemisphere showing that the majority of temps recorded are between 75 and 85 degrees\n",
    "plt.hist(temp_north_hem)\n",
    "plt.savefig(\"temp_north_hem.png\")"
   ]
  },
  {
   "cell_type": "code",
   "execution_count": 103,
   "metadata": {},
   "outputs": [
    {
     "data": {
      "image/png": "[encoded data removed]",
      "text/plain": [
       "<Figure size 432x288 with 1 Axes>"
      ]
     },
     "metadata": {
      "needs_background": "light"
     },
     "output_type": "display_data"
    }
   ],
   "source": [
    "plt.hist(temp_south_hem)\n",
    "plt.savefig(\"temp_south_hem.png\")\n",
    "#There is an uneven distribution between the random points returned as points of refrence. The majority of reponses\n",
    "#returned would be considered the northern hemisphere. "
   ]
  },
  {
   "cell_type": "code",
   "execution_count": 74,
   "metadata": {},
   "outputs": [
    {
     "data": {
      "image/png": "[encoded data removed]",
      "text/plain": [
       "<Figure size 432x288 with 1 Axes>"
      ]
     },
     "metadata": {
      "needs_background": "light"
     },
     "output_type": "display_data"
    }
   ],
   "source": [
    "plt.scatter(humidity_list,latitude_list, color=\"green\")\n",
    "sts.linregress(humidity_list,latitude_list)\n",
    "plt.title(\"Humidity & Lat Relationship\")\n",
    "plt.savefig(\"humidity_lat.png\")\n",
    "#The plot below represents the relationship between humidity and latitude."
   ]
  },
  {
   "cell_type": "code",
   "execution_count": 75,
   "metadata": {},
   "outputs": [
    {
     "name": "stdout",
     "output_type": "stream",
     "text": [
      "45.589188005383136\n",
      "42.03106454052547\n",
      "39.31014659681078\n",
      "40.775256258811\n",
      "43.07757144195419\n",
      "40.147352117953766\n",
      "41.40316039966824\n",
      "41.19385901938249\n",
      "39.51944797709653\n",
      "56.472859780241876\n",
      "42.44966730109696\n",
      "42.86827006166845\n",
      "41.40316039966824\n",
      "43.28687282223994\n",
      "45.79848938566888\n",
      "42.44966730109696\n",
      "48.72870870966931\n",
      "42.03106454052547\n",
      "48.51940732938357\n",
      "49.775215611098034\n",
      "43.28687282223994\n",
      "41.821763160239726\n",
      "46.63569490681186\n",
      "41.612461779953975\n",
      "41.19385901938249\n",
      "48.51940732938357\n",
      "43.70547558281143\n",
      "40.775256258811\n",
      "41.40316039966824\n",
      "39.72874935738227\n",
      "41.40316039966824\n",
      "39.31014659681078\n",
      "40.147352117953766\n",
      "49.56591423081229\n",
      "42.240365920811215\n",
      "41.612461779953975\n",
      "39.72874935738227\n",
      "49.98451699138378\n",
      "42.86827006166845\n",
      "45.79848938566888\n",
      "41.40316039966824\n",
      "42.03106454052547\n",
      "42.03106454052547\n"
     ]
    },
    {
     "ename": "KeyError",
     "evalue": "'coord'",
     "output_type": "error",
     "traceback": [
      "\u001b[1;31m---------------------------------------------------------------------------\u001b[0m",
      "\u001b[1;31mKeyError\u001b[0m                                  Traceback (most recent call last)",
      "\u001b[1;32m<ipython-input-75-dba85f0ec91b>\u001b[0m in \u001b[0;36m<module>\u001b[1;34m\u001b[0m\n\u001b[0;32m      5\u001b[0m \u001b[1;32mfor\u001b[0m \u001b[0mtemp\u001b[0m \u001b[1;32min\u001b[0m \u001b[0mresponse_list\u001b[0m\u001b[1;33m:\u001b[0m\u001b[1;33m\u001b[0m\u001b[1;33m\u001b[0m\u001b[0m\n\u001b[0;32m      6\u001b[0m     \u001b[1;31m#print(temp[\"main\"][\"humidity\"])\u001b[0m\u001b[1;33m\u001b[0m\u001b[1;33m\u001b[0m\u001b[1;33m\u001b[0m\u001b[0m\n\u001b[1;32m----> 7\u001b[1;33m     \u001b[0mregress_values\u001b[0m \u001b[1;33m=\u001b[0m \u001b[0mint\u001b[0m\u001b[1;33m(\u001b[0m\u001b[0mtemp\u001b[0m\u001b[1;33m[\u001b[0m\u001b[1;34m'coord'\u001b[0m\u001b[1;33m]\u001b[0m\u001b[1;33m[\u001b[0m\u001b[1;34m\"lat\"\u001b[0m\u001b[1;33m]\u001b[0m\u001b[1;33m)\u001b[0m \u001b[1;33m*\u001b[0m \u001b[0mslope\u001b[0m \u001b[1;33m+\u001b[0m \u001b[0mintercept\u001b[0m\u001b[1;33m\u001b[0m\u001b[1;33m\u001b[0m\u001b[0m\n\u001b[0m\u001b[0;32m      8\u001b[0m     \u001b[0mprint\u001b[0m\u001b[1;33m(\u001b[0m\u001b[0mregress_values\u001b[0m\u001b[1;33m)\u001b[0m\u001b[1;33m\u001b[0m\u001b[1;33m\u001b[0m\u001b[0m\n\u001b[0;32m      9\u001b[0m     \u001b[1;31m#Separate North and South Hemisphere humidity\u001b[0m\u001b[1;33m\u001b[0m\u001b[1;33m\u001b[0m\u001b[1;33m\u001b[0m\u001b[0m\n",
      "\u001b[1;31mKeyError\u001b[0m: 'coord'"
     ]
    }
   ],
   "source": [
    "#Linear Regression Analyis on  Temp & Lat\n",
    "#Linear Regression\n",
    "(slope, intercept, rvalue, pvalue, stderr) = sts.linregress(humidity_list,latitude_list)\n",
    "#Linear Regression Valuues\n",
    "for temp in response_list:\n",
    "    #print(temp[\"main\"][\"humidity\"])\n",
    "    regress_values = int(temp['coord'][\"lat\"]) * slope + intercept\n",
    "    print(regress_values)\n",
    "    #Separate North and South Hemisphere humidity\n",
    "    if (temp[\"coord\"][\"lat\"])>=0:\n",
    "        hum_north_hem.append(temp[\"main\"][\"humidity\"])\n",
    "    else:\n",
    "        hum_south_hem.append(temp[\"main\"][\"humidity\"])\n",
    "#Create line equation string\n",
    "line_eq = \"y = \" + str(round(slope,2)) + \"x +\" + str(round(intercept,2))\n",
    "line_eq"
   ]
  },
  {
   "cell_type": "code",
   "execution_count": 76,
   "metadata": {},
   "outputs": [
    {
     "data": {
      "image/png": "[encoded data removed]",
      "text/plain": [
       "<Figure size 432x288 with 1 Axes>"
      ]
     },
     "metadata": {
      "needs_background": "light"
     },
     "output_type": "display_data"
    }
   ],
   "source": [
    "plt.hist(hum_north_hem)\n",
    "plt.savefig(\"hum_north_hem.png\")"
   ]
  },
  {
   "cell_type": "code",
   "execution_count": 77,
   "metadata": {},
   "outputs": [
    {
     "data": {
      "image/png": "[encoded data removed]",
      "text/plain": [
       "<Figure size 432x288 with 1 Axes>"
      ]
     },
     "metadata": {
      "needs_background": "light"
     },
     "output_type": "display_data"
    }
   ],
   "source": [
    "plt.hist(hum_south_hem)\n",
    "plt.savefig(\"hum_south_hem.png\")"
   ]
  },
  {
   "cell_type": "code",
   "execution_count": 78,
   "metadata": {},
   "outputs": [
    {
     "data": {
      "image/png": "[encoded data removed]",
      "text/plain": [
       "<Figure size 432x288 with 1 Axes>"
      ]
     },
     "metadata": {
      "needs_background": "light"
     },
     "output_type": "display_data"
    }
   ],
   "source": [
    "plt.scatter(cloudiness_list,latitude_list, color=\"orange\")\n",
    "sts.linregress(cloudiness_list,latitude_list)\n",
    "plt.title(\"Cloudiness & Lat Relationship\")\n",
    "plt.savefig(\"cloud_lat.png\")\n",
    "#The plot below represents the relationship between cloudiness and latitude."
   ]
  },
  {
   "cell_type": "code",
   "execution_count": 79,
   "metadata": {},
   "outputs": [
    {
     "name": "stdout",
     "output_type": "stream",
     "text": [
      "65.8033030874562\n",
      "60.22649711809933\n",
      "55.96188078859113\n",
      "58.258212658326315\n",
      "61.866734167910174\n",
      "57.274070428439806\n",
      "59.24235488821282\n",
      "58.91430747825065\n",
      "56.2899281985533\n",
      "82.86176840548899\n",
      "60.882591938023666\n",
      "61.53868675794801\n",
      "59.24235488821282\n",
      "62.19478157787234\n",
      "66.13135049741837\n",
      "60.882591938023666\n",
      "70.72401423688873\n",
      "60.22649711809933\n",
      "70.39596682692657\n",
      "72.36425128669958\n",
      "62.19478157787234\n",
      "59.89844970813716\n",
      "67.44354013726705\n",
      "59.57040229817499\n",
      "58.91430747825065\n",
      "70.39596682692657\n",
      "62.85087639779668\n",
      "58.258212658326315\n",
      "59.24235488821282\n",
      "56.617975608515465\n",
      "59.24235488821282\n",
      "55.96188078859113\n",
      "57.274070428439806\n",
      "72.03620387673742\n",
      "60.5545445280615\n",
      "59.57040229817499\n",
      "56.617975608515465\n",
      "72.69229869666175\n",
      "61.53868675794801\n",
      "66.13135049741837\n",
      "59.24235488821282\n",
      "60.22649711809933\n",
      "60.22649711809933\n"
     ]
    },
    {
     "ename": "KeyError",
     "evalue": "'coord'",
     "output_type": "error",
     "traceback": [
      "\u001b[1;31m---------------------------------------------------------------------------\u001b[0m",
      "\u001b[1;31mKeyError\u001b[0m                                  Traceback (most recent call last)",
      "\u001b[1;32m<ipython-input-79-7413b60e4aca>\u001b[0m in \u001b[0;36m<module>\u001b[1;34m\u001b[0m\n\u001b[0;32m      5\u001b[0m \u001b[1;32mfor\u001b[0m \u001b[0mtemp\u001b[0m \u001b[1;32min\u001b[0m \u001b[0mresponse_list\u001b[0m\u001b[1;33m:\u001b[0m\u001b[1;33m\u001b[0m\u001b[1;33m\u001b[0m\u001b[0m\n\u001b[0;32m      6\u001b[0m     \u001b[1;31m#print(temp[\"clouds\"][\"all\"])\u001b[0m\u001b[1;33m\u001b[0m\u001b[1;33m\u001b[0m\u001b[1;33m\u001b[0m\u001b[0m\n\u001b[1;32m----> 7\u001b[1;33m     \u001b[0mregress_values\u001b[0m \u001b[1;33m=\u001b[0m \u001b[0mint\u001b[0m\u001b[1;33m(\u001b[0m\u001b[0mtemp\u001b[0m\u001b[1;33m[\u001b[0m\u001b[1;34m'coord'\u001b[0m\u001b[1;33m]\u001b[0m\u001b[1;33m[\u001b[0m\u001b[1;34m\"lat\"\u001b[0m\u001b[1;33m]\u001b[0m\u001b[1;33m)\u001b[0m \u001b[1;33m*\u001b[0m \u001b[0mslope\u001b[0m \u001b[1;33m+\u001b[0m \u001b[0mintercept\u001b[0m\u001b[1;33m\u001b[0m\u001b[1;33m\u001b[0m\u001b[0m\n\u001b[0m\u001b[0;32m      8\u001b[0m     \u001b[0mprint\u001b[0m\u001b[1;33m(\u001b[0m\u001b[0mregress_values\u001b[0m\u001b[1;33m)\u001b[0m\u001b[1;33m\u001b[0m\u001b[1;33m\u001b[0m\u001b[0m\n\u001b[0;32m      9\u001b[0m     \u001b[1;31m#Separate North and South Hemisphere cloudiness\u001b[0m\u001b[1;33m\u001b[0m\u001b[1;33m\u001b[0m\u001b[1;33m\u001b[0m\u001b[0m\n",
      "\u001b[1;31mKeyError\u001b[0m: 'coord'"
     ]
    }
   ],
   "source": [
    "#Linear Regression Analyis on  Temp & Lat\n",
    "#Linear Regression\n",
    "(slope, intercept, rvalue, pvalue, stderr) = sts.linregress(latitude_list,humidity_list)\n",
    "#Linear Regression Valuues\n",
    "for temp in response_list:\n",
    "    #print(temp[\"clouds\"][\"all\"])\n",
    "    regress_values = int(temp['coord'][\"lat\"]) * slope + intercept\n",
    "    print(regress_values)\n",
    "    #Separate North and South Hemisphere cloudiness\n",
    "    if (temp[\"coord\"][\"lat\"])>=0:\n",
    "        cloud_north_hem.append(temp[\"clouds\"][\"all\"])\n",
    "    else:\n",
    "        cloud_south_hem.append(temp[\"clouds\"][\"all\"])\n",
    "#Create line equation string\n",
    "line_eq = \"y = \" + str(round(slope,2)) + \"x +\" + str(round(intercept,2))\n",
    "line_eq"
   ]
  },
  {
   "cell_type": "code",
   "execution_count": 80,
   "metadata": {},
   "outputs": [
    {
     "data": {
      "image/png": "[encoded data removed]",
      "text/plain": [
       "<Figure size 432x288 with 1 Axes>"
      ]
     },
     "metadata": {
      "needs_background": "light"
     },
     "output_type": "display_data"
    }
   ],
   "source": [
    "plt.hist(cloud_north_hem)\n",
    "plt.savefig(\"cloud_north_hem.png\")"
   ]
  },
  {
   "cell_type": "code",
   "execution_count": 81,
   "metadata": {},
   "outputs": [
    {
     "data": {
      "image/png": "[encoded data removed]",
      "text/plain": [
       "<Figure size 432x288 with 1 Axes>"
      ]
     },
     "metadata": {
      "needs_background": "light"
     },
     "output_type": "display_data"
    }
   ],
   "source": [
    "plt.hist(cloud_south_hem)\n",
    "plt.savefig(\"cloud_south_hem.png\")"
   ]
  },
  {
   "cell_type": "code",
   "execution_count": 82,
   "metadata": {
    "scrolled": true
   },
   "outputs": [
    {
     "data": {
      "image/png": "[encoded data removed]",
      "text/plain": [
       "<Figure size 432x288 with 1 Axes>"
      ]
     },
     "metadata": {
      "needs_background": "light"
     },
     "output_type": "display_data"
    }
   ],
   "source": [
    "plt.scatter(windspeed_list,latitude_list, color=\"hotpink\")\n",
    "sts.linregress(windspeed_list,latitude_list)\n",
    "plt.title(\"Wind & Lat Relationship\")\n",
    "plt.savefig(\"wind_lat.png\")\n",
    "#The plot below represents the relationship beteween windspeed and latitude."
   ]
  },
  {
   "cell_type": "code",
   "execution_count": 83,
   "metadata": {},
   "outputs": [
    {
     "name": "stdout",
     "output_type": "stream",
     "text": [
      "65.8033030874562\n",
      "60.22649711809933\n",
      "55.96188078859113\n",
      "58.258212658326315\n",
      "61.866734167910174\n",
      "57.274070428439806\n",
      "59.24235488821282\n",
      "58.91430747825065\n",
      "56.2899281985533\n",
      "82.86176840548899\n",
      "60.882591938023666\n",
      "61.53868675794801\n",
      "59.24235488821282\n",
      "62.19478157787234\n",
      "66.13135049741837\n",
      "60.882591938023666\n",
      "70.72401423688873\n",
      "60.22649711809933\n",
      "70.39596682692657\n",
      "72.36425128669958\n",
      "62.19478157787234\n",
      "59.89844970813716\n",
      "67.44354013726705\n",
      "59.57040229817499\n",
      "58.91430747825065\n",
      "70.39596682692657\n",
      "62.85087639779668\n",
      "58.258212658326315\n",
      "59.24235488821282\n",
      "56.617975608515465\n",
      "59.24235488821282\n",
      "55.96188078859113\n",
      "57.274070428439806\n",
      "72.03620387673742\n",
      "60.5545445280615\n",
      "59.57040229817499\n",
      "56.617975608515465\n",
      "72.69229869666175\n",
      "61.53868675794801\n",
      "66.13135049741837\n",
      "59.24235488821282\n",
      "60.22649711809933\n",
      "60.22649711809933\n"
     ]
    },
    {
     "ename": "KeyError",
     "evalue": "'coord'",
     "output_type": "error",
     "traceback": [
      "\u001b[1;31m---------------------------------------------------------------------------\u001b[0m",
      "\u001b[1;31mKeyError\u001b[0m                                  Traceback (most recent call last)",
      "\u001b[1;32m<ipython-input-83-caf2ab572ade>\u001b[0m in \u001b[0;36m<module>\u001b[1;34m\u001b[0m\n\u001b[0;32m      5\u001b[0m \u001b[1;32mfor\u001b[0m \u001b[0mtemp\u001b[0m \u001b[1;32min\u001b[0m \u001b[0mresponse_list\u001b[0m\u001b[1;33m:\u001b[0m\u001b[1;33m\u001b[0m\u001b[1;33m\u001b[0m\u001b[0m\n\u001b[0;32m      6\u001b[0m     \u001b[1;31m#print(temp[\"wind\"][\"speed\"])\u001b[0m\u001b[1;33m\u001b[0m\u001b[1;33m\u001b[0m\u001b[1;33m\u001b[0m\u001b[0m\n\u001b[1;32m----> 7\u001b[1;33m     \u001b[0mregress_values\u001b[0m \u001b[1;33m=\u001b[0m \u001b[0mint\u001b[0m\u001b[1;33m(\u001b[0m\u001b[0mtemp\u001b[0m\u001b[1;33m[\u001b[0m\u001b[1;34m'coord'\u001b[0m\u001b[1;33m]\u001b[0m\u001b[1;33m[\u001b[0m\u001b[1;34m\"lat\"\u001b[0m\u001b[1;33m]\u001b[0m\u001b[1;33m)\u001b[0m \u001b[1;33m*\u001b[0m \u001b[0mslope\u001b[0m \u001b[1;33m+\u001b[0m \u001b[0mintercept\u001b[0m\u001b[1;33m\u001b[0m\u001b[1;33m\u001b[0m\u001b[0m\n\u001b[0m\u001b[0;32m      8\u001b[0m     \u001b[0mprint\u001b[0m\u001b[1;33m(\u001b[0m\u001b[0mregress_values\u001b[0m\u001b[1;33m)\u001b[0m\u001b[1;33m\u001b[0m\u001b[1;33m\u001b[0m\u001b[0m\n\u001b[0;32m      9\u001b[0m     \u001b[1;31m#Separate North and South Hemisphere Wind Speed\u001b[0m\u001b[1;33m\u001b[0m\u001b[1;33m\u001b[0m\u001b[1;33m\u001b[0m\u001b[0m\n",
      "\u001b[1;31mKeyError\u001b[0m: 'coord'"
     ]
    }
   ],
   "source": [
    "#Linear Regression Analyis on  Temp & Lat\n",
    "#Linear Regression\n",
    "(slope, intercept, rvalue, pvalue, stderr) = sts.linregress(latitude_list,humidity_list)\n",
    "#Linear Regression Valuues\n",
    "for temp in response_list:\n",
    "    #print(temp[\"wind\"][\"speed\"])\n",
    "    regress_values = int(temp['coord'][\"lat\"]) * slope + intercept\n",
    "    print(regress_values)\n",
    "    #Separate North and South Hemisphere Wind Speed\n",
    "    if (temp[\"coord\"][\"lat\"])>=0:\n",
    "        wind_north_hem.append(temp[\"clouds\"][\"all\"])\n",
    "    else:\n",
    "        wind_south_hem.append(temp[\"clouds\"][\"all\"])\n",
    "#Create line equation string\n",
    "line_eq = \"y = \" + str(round(slope,2)) + \"x +\" + str(round(intercept,2))\n",
    "line_eq"
   ]
  },
  {
   "cell_type": "code",
   "execution_count": 84,
   "metadata": {},
   "outputs": [
    {
     "data": {
      "image/png": "[encoded data removed]",
      "text/plain": [
       "<Figure size 432x288 with 1 Axes>"
      ]
     },
     "metadata": {
      "needs_background": "light"
     },
     "output_type": "display_data"
    }
   ],
   "source": [
    "plt.hist(wind_north_hem)\n",
    "plt.savefig(\"wind_north_hem.png\")"
   ]
  },
  {
   "cell_type": "code",
   "execution_count": 85,
   "metadata": {},
   "outputs": [
    {
     "data": {
      "image/png": "[encoded data removed]",
      "text/plain": [
       "<Figure size 432x288 with 1 Axes>"
      ]
     },
     "metadata": {
      "needs_background": "light"
     },
     "output_type": "display_data"
    }
   ],
   "source": [
    "plt.hist(wind_south_hem)\n",
    "plt.savefig(\"wind_south_hem.png\")"
   ]
  },
  {
   "cell_type": "code",
   "execution_count": null,
   "metadata": {},
   "outputs": [],
   "source": []
  }
 ],
 "metadata": {
  "kernelspec": {
   "display_name": "Python 3",
   "language": "python",
   "name": "python3"
  },
  "language_info": {
   "codemirror_mode": {
    "name": "ipython",
    "version": 3
   },
   "file_extension": ".py",
   "mimetype": "text/x-python",
   "name": "python",
   "nbconvert_exporter": "python",
   "pygments_lexer": "ipython3",
   "version": "3.7.6"
  }
 },
 "nbformat": 4,
 "nbformat_minor": 4
}
